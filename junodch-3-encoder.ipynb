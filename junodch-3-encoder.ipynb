{
 "cells": [
  {
   "cell_type": "code",
   "execution_count": null,
   "metadata": {},
   "outputs": [],
   "source": [
    "import junodch_utils_read_img as utils\n",
    "\n",
    "import matplotlib.pyplot as plt\n",
    "import numpy as np\n",
    "import pandas as pd\n",
    "import tensorflow as tf\n",
    "\n",
    "import keras\n",
    "from keras import layers, losses\n",
    "from keras.models import Model\n",
    "from shapely.geometry import box\n",
    "#import gdal\n",
    "\n",
    "import rasterio\n",
    "from rasterio import plot as rastPlt\n",
    "from rasterio.merge import merge as rasterMerge\n"
   ]
  },
  {
   "cell_type": "code",
   "execution_count": null,
   "metadata": {},
   "outputs": [],
   "source": [
    "folderName = \"img/Sokoto/\"\n",
    "with rasterio.open(folderName + \"Sentinel-2.tif\") as s:\n",
    "  sBox = box(*s.bounds).exterior.coords\n",
    "\n",
    "#with rasterio.open(folderName + \"Night VIIRS_1.tif\") as s:\n",
    "#  sBox = box(*s.bounds).exterior.coords\n",
    "\n",
    "aoi = []\n",
    "for v in sBox:\n",
    "  aoi.append((v[0], v[1]))\n",
    "aoi.pop()\n",
    "\n",
    "aoi"
   ]
  },
  {
   "cell_type": "code",
   "execution_count": null,
   "metadata": {},
   "outputs": [],
   "source": [
    "folderName = \"img/Sokoto/\"\n",
    "train, test = utils.getTrainingAndTestPerimeter(folderName + \"Night VIIRS_1.tif\", 200, area=aoi)\n",
    "\n",
    "print(len(train))\n",
    "print(len(test))"
   ]
  },
  {
   "cell_type": "code",
   "execution_count": null,
   "metadata": {},
   "outputs": [],
   "source": [
    "folderName = \"img/Sokoto/\"\n",
    "with rasterio.open(folderName + \"Sentinel-2.tif\") as s:\n",
    "  data, meta = utils.getEachImgFromCoord(s, train, True)\n"
   ]
  },
  {
   "cell_type": "code",
   "execution_count": null,
   "metadata": {},
   "outputs": [],
   "source": [
    "fig, axs = plt.subplots(1,1)\n",
    "rastPlt.show(data[0],transform=meta[0],ax=axs)\n",
    "xMin = axs.get_xlim()[0]\n",
    "xMax = axs.get_xlim()[1]\n",
    "yMin = axs.get_ylim()[0]\n",
    "yMax = axs.get_ylim()[1]\n",
    "\n",
    "for i in range(1,len(data)):\n",
    "  rastPlt.show(data[i],transform=meta[i],ax=axs)\n",
    "  newXMin = axs.get_xlim()[0]\n",
    "  newXMax = axs.get_xlim()[1]\n",
    "  newYMin = axs.get_ylim()[0]\n",
    "  newYMax = axs.get_ylim()[1]\n",
    "  \n",
    "  xMin = newXMin if newXMin < xMin else xMin\n",
    "  xMax = newXMax if newXMax > xMax else xMax\n",
    "  yMin = newYMin if newYMin < yMin else yMin\n",
    "  yMax = newYMax if newYMax > yMax else yMax\n",
    "\n",
    "axs.set_xlim((xMin, xMax))\n",
    "axs.set_ylim((yMin, yMax))\n"
   ]
  },
  {
   "cell_type": "markdown",
   "metadata": {},
   "source": [
    "## format data for autoencoder"
   ]
  },
  {
   "cell_type": "code",
   "execution_count": null,
   "metadata": {},
   "outputs": [],
   "source": [
    "print(data[0].shape)\n",
    "#print(meta[0])\n",
    "\n",
    "dataTrain_formated = tf.transpose(np.asarray(data), [0, 2, 3, 1])\n",
    "dataTrain_formated.shape\n",
    "dataTrain_formated = tf.slice(\n",
    "  dataTrain_formated, \n",
    "  [0, 0, 0, 0],\n",
    "  [len(dataTrain_formated),32,32,3])\n",
    "dataTrain_formated.shape"
   ]
  },
  {
   "cell_type": "markdown",
   "metadata": {},
   "source": [
    "# Autoencoder"
   ]
  },
  {
   "cell_type": "code",
   "execution_count": null,
   "metadata": {},
   "outputs": [],
   "source": [
    "# Input encoder\n",
    "input_img = keras.Input(shape=(32,32,3))\n",
    "cnn = layers.Conv2D(8,(3,3), padding='same', activation='relu')(input_img)\n",
    "cnn = layers.MaxPool2D((2,2), padding='same')(cnn)\n",
    "cnn = layers.Conv2D(8,(3,3), padding='same', activation='relu')(cnn)\n",
    "cnn = layers.MaxPool2D((2,2), padding='same')(cnn)\n",
    "cnn = layers.Conv2D(8,(3,3), padding='same', activation='relu')(cnn)\n",
    "encoded = layers.MaxPool2D((2,2), padding='same')(cnn)\n",
    "print('Encoder shape:',encoded.get_shape())\n",
    "encoder = keras.Model(input_img, encoded)\n",
    "\n",
    "cnn = layers.Conv2D(8,(3,3), padding='same', activation='relu')(encoded)\n",
    "cnn = layers.UpSampling2D((2,2))(cnn)\n",
    "cnn = layers.Conv2D(8,(3,3), padding='same', activation='relu')(cnn)\n",
    "cnn = layers.UpSampling2D((2,2))(cnn)\n",
    "cnn = layers.Conv2D(8,(3,3), padding='same', activation='relu')(cnn)\n",
    "cnn = layers.UpSampling2D((2,2))(cnn)\n",
    "decoder = layers.Conv2D(3, (3,3), padding='same', activation='sigmoid')(cnn)\n",
    "\n",
    "autoencoder = keras.Model(input_img, decoder)\n",
    "autoencoder.compile(optimizer='adam', loss='binary_crossentropy')\n",
    "\n",
    "autoencoder.fit(dataTrain_formated[0:100], dataTrain_formated[0:100],\n",
    "                epochs=5,\n",
    "                #batch_size=256,\n",
    "                shuffle=True,\n",
    "                validation_data=(dataTrain_formated[1000:2000], dataTrain_formated[1000:2000]))"
   ]
  },
  {
   "cell_type": "code",
   "execution_count": null,
   "metadata": {},
   "outputs": [],
   "source": [
    "n = 10\n",
    "\n",
    "encoded_imgs = encoder.predict(dataTrain_formated[1000:1010])\n",
    "decoded_imgs = autoencoder.predict(dataTrain_formated[1000:1010])\n",
    "print(dataTrain_formated[1000:1010].shape)\n",
    "print(encoded_imgs.shape)\n",
    "print(decoded_imgs.shape)\n",
    "\n",
    "plt.figure(figsize=(20, 20))\n",
    "for i in range(0, n):\n",
    "    # Display original\n",
    "    ax = plt.subplot(1, n, 1+i)\n",
    "    plt.imshow(dataTrain_formated[1000+i])\n",
    "    ax.get_xaxis().set_visible(False)\n",
    "    ax.get_yaxis().set_visible(False)\n",
    "plt.show()\n",
    "\n",
    "plt.figure(figsize=(20, 4))\n",
    "for i in range(0, n):\n",
    "    # Display encoded\n",
    "    ax = plt.subplot(1, n, 1+i)\n",
    "    plt.imshow(encoded_imgs[i].reshape(4,4*8).T)\n",
    "    ax.get_xaxis().set_visible(False)\n",
    "    ax.get_yaxis().set_visible(False)\n",
    "plt.show()\n",
    "\n",
    "plt.figure(figsize=(20, 20))\n",
    "for i in range(0, n):\n",
    "    # Display reconstruction\n",
    "    ax = plt.subplot(1, n, 1+i)\n",
    "    plt.imshow(decoded_imgs[i])\n",
    "    ax.get_xaxis().set_visible(False)\n",
    "    ax.get_yaxis().set_visible(False)\n",
    "plt.show()\n"
   ]
  }
 ],
 "metadata": {
  "kernelspec": {
   "display_name": "Python 3 (ipykernel)",
   "language": "python",
   "name": "python3"
  },
  "language_info": {
   "codemirror_mode": {
    "name": "ipython",
    "version": 3
   },
   "file_extension": ".py",
   "mimetype": "text/x-python",
   "name": "python",
   "nbconvert_exporter": "python",
   "pygments_lexer": "ipython3",
   "version": "3.9.12"
  },
  "vscode": {
   "interpreter": {
    "hash": "0877fde3bc78a9e7113f97fea145bff0c5aa8882703ee053f927d63ca7148c47"
   }
  }
 },
 "nbformat": 4,
 "nbformat_minor": 4
}
