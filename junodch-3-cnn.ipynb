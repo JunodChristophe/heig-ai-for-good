{
 "cells": [
  {
   "cell_type": "code",
   "execution_count": null,
   "metadata": {},
   "outputs": [],
   "source": [
    "import junodch_utils_read_img as utils\n",
    "\n",
    "import matplotlib.pyplot as matPlt\n",
    "import numpy as np\n",
    "import tensorflow as tf\n",
    "import keras\n",
    "from keras import layers\n",
    "\n",
    "from tqdm.keras import TqdmCallback\n",
    "from sklearn.metrics import confusion_matrix\n",
    "\n",
    "import rasterio\n",
    "from rasterio import plot as rastPlt"
   ]
  },
  {
   "cell_type": "markdown",
   "metadata": {},
   "source": [
    "# Data preparation\n",
    "### Fetch data from file"
   ]
  },
  {
   "cell_type": "code",
   "execution_count": null,
   "metadata": {},
   "outputs": [],
   "source": [
    "folderName = \"img/Sokoto/\"\n",
    "pathSatellite = folderName + \"Sentinel-2.tif\"\n",
    "#pathSatellite = folderName + \"Landsat-8.tif\"\n",
    "#pathNight = folderName + \"Night VIIRS_1.tif\"\n",
    "pathNight = folderName + \"lowres_night_1.tif\"\n",
    "pathValidation = folderName + \"Population GHSL_1.tif\"\n",
    "\n",
    "aoi = utils.getImgBorder(pathSatellite)\n",
    "\n",
    "# Fetch coords\n",
    "dataCoords, dataRadiance = utils.getTilesCoordsPerimeter(pathNight, validThreshold=1, area=aoi)\n",
    "\n",
    "print('Tiles:',dataCoords.shape[0])\n"
   ]
  },
  {
   "cell_type": "code",
   "execution_count": null,
   "metadata": {},
   "outputs": [],
   "source": [
    "# Fetch images\n",
    "lightMask = dataRadiance>25\n",
    "darkMask = (dataRadiance<=25) & (dataRadiance>1)\n",
    "with rasterio.open(pathSatellite) as f:\n",
    "  lightData, _ = utils.getEachImgFromCoord(f, dataCoords[lightMask], True)\n",
    "  darkData, _ = utils.getEachImgFromCoord(f, dataCoords[darkMask], True)\n",
    "trainData = lightData+darkData\n",
    "trainData = utils.formatData(trainData, res=64, toFloat=True)\n",
    "print('Light Tile:',len(lightData))\n",
    "print('Dark Tile:',len(darkData))\n",
    "print('Total train',trainData.shape)"
   ]
  },
  {
   "cell_type": "markdown",
   "metadata": {},
   "source": [
    "## CNN"
   ]
  },
  {
   "cell_type": "code",
   "execution_count": null,
   "metadata": {},
   "outputs": [],
   "source": [
    "# Input encoder\n",
    "input_shape = keras.Input(shape=trainData.shape[1:])\n",
    "\n",
    "#optimizer = 'adam'\n",
    "optimizer = keras.optimizers.Adam(\n",
    "  learning_rate=0.001,\n",
    "  beta_1=0.9,\n",
    "  beta_2=0.999,\n",
    ")\n",
    "#lossFunction = keras.losses.MeanAbsoluteError() # L1\n",
    "lossFunction = keras.losses.MeanSquaredError() # l2\n",
    "#lossFunction = keras.losses.MeanSquaredLogarithmicError()\n",
    "#lossFunction = keras.losses.KLDivergence(reduction=tf.keras.losses.Reduction.SUM)\n",
    "\n",
    "activationFunction = 'relu'\n",
    "#activationFunction = lambda x: tf.keras.activations.relu(x, max_value=255)\n",
    "\n",
    "earlyStop = tf.keras.callbacks.EarlyStopping(monitor='loss', min_delta=0, patience=5)\n",
    "\n",
    "cnn = layers.Conv2D(16,(3,3), 2, padding='same', activation=activationFunction)(input_shape)\n",
    "cnn = layers.Conv2D(16,(3,3), 2, padding='same', activation=activationFunction)(cnn)\n",
    "cnn = layers.Conv2D(16,(3,3), 2, padding='same', activation=activationFunction)(cnn)\n",
    "\n",
    "cnn = layers.Flatten()(cnn)\n",
    "#cnn = layers.Dense(8*8*4, activation=activationFunction)(cnn)\n",
    "cnn = layers.Dense(1, activation='sigmoid')(cnn)\n",
    "\n",
    "modelCNN = keras.Model(input_shape, cnn)\n",
    "modelCNN.compile(optimizer=optimizer, loss=lossFunction)\n",
    "\n",
    "result = modelCNN.fit(\n",
    "  x=trainData,\n",
    "  y=np.concatenate((dataRadiance[lightMask], dataRadiance[darkMask]), axis=0).astype(\"float32\") / 255,\n",
    "  epochs=20,\n",
    "  batch_size=10,\n",
    "  shuffle=True,\n",
    "  verbose=0,\n",
    "  callbacks=[\n",
    "    TqdmCallback(verbose=1), # Concise display progression\n",
    "    earlyStop,\n",
    "  ],\n",
    ")"
   ]
  },
  {
   "cell_type": "code",
   "execution_count": null,
   "metadata": {},
   "outputs": [],
   "source": [
    "matPlt.plot(result.history['loss'][0:], label='Training')\n",
    "modelCNN.summary()"
   ]
  },
  {
   "cell_type": "code",
   "execution_count": null,
   "metadata": {},
   "outputs": [],
   "source": [
    "print('Process validation...')\n",
    "getValid = lambda data : [ int(any([ any(c > 250 for c in row) for row in img[0] ])) for img in data ]\n",
    "resultValid = utils.scanSatellite(pathValidation, dataCoords, getValid, batch=1000)"
   ]
  },
  {
   "cell_type": "code",
   "execution_count": null,
   "metadata": {},
   "outputs": [],
   "source": [
    "print('Process score...')\n",
    "getScore = lambda data : modelCNN.predict(utils.formatData(data, res=64, toFloat=True), verbose=0)\n",
    "result = utils.scanSatellite(pathSatellite, dataCoords, getScore, batch=1000)"
   ]
  },
  {
   "cell_type": "code",
   "execution_count": null,
   "metadata": {},
   "outputs": [],
   "source": [
    "print('Process confustion matrix...')\n",
    "print(len(result))\n",
    "resultTest = (np.asarray(result) > 0.9).astype(int)\n",
    "confusionMatrix = confusion_matrix(resultValid, resultTest)\n",
    "print(confusionMatrix)\n",
    "print((confusionMatrix[0][0] + confusionMatrix[1][1]) / (confusionMatrix[0][0] + confusionMatrix[0][1] + confusionMatrix[1][0] + confusionMatrix[1][1]),\"%\")"
   ]
  },
  {
   "cell_type": "code",
   "execution_count": null,
   "metadata": {},
   "outputs": [],
   "source": [
    "resultImg, resultMeta = utils.mapResultOnImg(pathNight, dataCoords, resultTest, resultValid)\n",
    "\n",
    "fig, axs = matPlt.subplots(1,3, dpi=240)\n",
    "with rasterio.open(pathSatellite) as s: utils.displayTiles([s.read()], [s.transform],axs[0])\n",
    "\n",
    "axs[2].set_xlim(axs[0].get_xlim())\n",
    "axs[2].set_ylim(axs[0].get_ylim())\n",
    "\n",
    "with rasterio.open(pathValidation) as p: rastPlt.show(p, ax=axs[2])\n",
    "\n",
    "axs[1].set_xlim(axs[0].get_xlim())\n",
    "axs[1].set_ylim(axs[0].get_ylim())\n",
    "\n",
    "utils.displayTiles([resultImg], [resultMeta], axs[1])"
   ]
  }
 ],
 "metadata": {
  "kernelspec": {
   "display_name": "Python 3.9.12 ('BT-Junodch')",
   "language": "python",
   "name": "python3"
  },
  "language_info": {
   "codemirror_mode": {
    "name": "ipython",
    "version": 3
   },
   "file_extension": ".py",
   "mimetype": "text/x-python",
   "name": "python",
   "nbconvert_exporter": "python",
   "pygments_lexer": "ipython3",
   "version": "3.9.12"
  },
  "orig_nbformat": 4,
  "vscode": {
   "interpreter": {
    "hash": "0877fde3bc78a9e7113f97fea145bff0c5aa8882703ee053f927d63ca7148c47"
   }
  }
 },
 "nbformat": 4,
 "nbformat_minor": 2
}
