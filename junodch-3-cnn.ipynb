{
 "cells": [
  {
   "cell_type": "code",
   "execution_count": null,
   "metadata": {},
   "outputs": [],
   "source": [
    "import junodch_utils_read_img as utils\n",
    "\n",
    "import matplotlib.pyplot as matPlt\n",
    "import random\n",
    "import numpy as np\n",
    "import tensorflow as tf\n",
    "import keras\n",
    "from keras import layers\n",
    "\n",
    "from tqdm.keras import TqdmCallback\n",
    "from sklearn.metrics import confusion_matrix\n",
    "\n",
    "import rasterio\n",
    "from rasterio import plot as rastPlt\n",
    "from rasterio.plot import reshape_as_raster"
   ]
  },
  {
   "cell_type": "markdown",
   "metadata": {},
   "source": [
    "# Data preparation\n",
    "### Fetch data from file"
   ]
  },
  {
   "cell_type": "code",
   "execution_count": null,
   "metadata": {},
   "outputs": [],
   "source": [
    "folderName = \"img/Sokoto/\"\n",
    "pathSatellite = folderName + \"Sentinel-2.tif\"\n",
    "#pathSatellite = folderName + \"Landsat-8.tif\"\n",
    "#pathNight = folderName + \"Night VIIRS_1.tif\"\n",
    "pathNight = folderName + \"lowres_night_1.tif\"\n",
    "pathValidation = folderName + \"Population GHSL_1.tif\"\n",
    "\n",
    "aoi = utils.getImgBorder(pathSatellite)\n",
    "\n",
    "# Fetch coords\n",
    "dataCoords, dataRadiance = utils.getTilesCoordsPerimeter(pathNight, validThreshold=0, area=aoi)\n",
    "\n",
    "print('Tiles:',dataCoords.shape[0])\n"
   ]
  },
  {
   "cell_type": "code",
   "execution_count": null,
   "metadata": {},
   "outputs": [],
   "source": [
    "# Fetch images\n",
    "lightMask = dataRadiance>1\n",
    "idxDarkData = np.random.choice(np.arange(dataCoords.shape[0])[dataRadiance==1],500, replace=False)\n",
    "darkData = dataCoords[idxDarkData]\n",
    "with rasterio.open(pathSatellite) as f:\n",
    "  trainData, _ = utils.getEachImgFromCoord(f, np.concatenate((dataCoords[lightMask], darkData)), True)\n",
    "trainData = utils.formatData(trainData, res=64, toFloat=True)\n",
    "print('Light Tile:',len(trainData)-len(darkData))\n",
    "print('dark Tile:',len(darkData))\n",
    "print('Total train',trainData.shape)\n",
    "\n",
    "train = trainData\n",
    "validation = np.concatenate((dataRadiance[lightMask], dataRadiance[idxDarkData])).astype(\"float32\") / 255"
   ]
  },
  {
   "cell_type": "markdown",
   "metadata": {},
   "source": [
    "## CNN"
   ]
  },
  {
   "cell_type": "code",
   "execution_count": null,
   "metadata": {},
   "outputs": [],
   "source": [
    "# Input encoder\n",
    "input_shape = keras.Input(shape=trainData.shape[1:])\n",
    "\n",
    "#optimizer = 'adam'\n",
    "optimizer = keras.optimizers.Adam(\n",
    "  learning_rate=0.001,\n",
    "  beta_1=0.9,\n",
    "  beta_2=0.999,\n",
    ")\n",
    "lossFunction = keras.losses.MeanSquaredError() # l2\n",
    "\n",
    "activationFunction = 'relu'\n",
    "\n",
    "earlyStop = tf.keras.callbacks.EarlyStopping(monitor='loss', min_delta=0, patience=5)\n",
    "\n",
    "cnn = layers.Conv2D(16,(3,3), 2, padding='same', activation=activationFunction)(input_shape)\n",
    "cnn = layers.Conv2D(16,(3,3), 2, padding='same', activation=activationFunction)(cnn)\n",
    "cnn = layers.Conv2D(16,(3,3), 2, padding='same', activation=activationFunction)(cnn)\n",
    "\n",
    "cnn = layers.Flatten()(cnn)\n",
    "cnn = layers.Dense(1, activation='sigmoid')(cnn)\n",
    "\n",
    "modelCNN = keras.Model(input_shape, cnn)\n",
    "modelCNN.compile(optimizer=optimizer, loss=lossFunction)\n",
    "\n",
    "result = modelCNN.fit(\n",
    "  x=train[::2],\n",
    "  y=validation[::2],\n",
    "  epochs=20,\n",
    "  batch_size=10,\n",
    "  shuffle=True,\n",
    "  verbose=0,\n",
    "  validation_data=(train[1::2], validation[1::2]),\n",
    "  callbacks=[\n",
    "    TqdmCallback(verbose=1), # Concise display progression\n",
    "    earlyStop,\n",
    "  ],\n",
    ")"
   ]
  },
  {
   "cell_type": "code",
   "execution_count": null,
   "metadata": {},
   "outputs": [],
   "source": [
    "matPlt.plot(result.history['loss'][:], label='Training')\n",
    "matPlt.plot(result.history['val_loss'][:], label='test')\n",
    "modelCNN.summary()"
   ]
  },
  {
   "cell_type": "code",
   "execution_count": null,
   "metadata": {},
   "outputs": [],
   "source": [
    "testCoordsData = dataCoords[::]\n",
    "#testCoordsData = dataCoords\n",
    "\n",
    "print('Process validation...')\n",
    "getValid = lambda data : [ int(any([ any(c > 250 for c in row) for row in img[0] ])) for img in data ]\n",
    "resultValid = utils.scanSatellite(pathValidation, testCoordsData, getValid, batch=1000)"
   ]
  },
  {
   "cell_type": "code",
   "execution_count": null,
   "metadata": {},
   "outputs": [],
   "source": [
    "print('Process score...')\n",
    "getScore = lambda data : modelCNN.predict(utils.formatData(data, res=64, toFloat=True), verbose=0)\n",
    "result = utils.scanSatellite(pathSatellite, testCoordsData, getScore, batch=1000)"
   ]
  },
  {
   "cell_type": "code",
   "execution_count": null,
   "metadata": {},
   "outputs": [],
   "source": [
    "print('Process confustion matrix...')\n",
    "print(len(result))\n",
    "resultTest = (np.asarray(result) > 0.5).astype(int)\n",
    "confusionMatrix = confusion_matrix(resultValid, resultTest)\n",
    "print(confusionMatrix)\n",
    "#print((confusionMatrix[0][0] + confusionMatrix[1][1]) / (confusionMatrix[0][0] + confusionMatrix[0][1] + confusionMatrix[1][0] + confusionMatrix[1][1]),\"%\")\n",
    "print((confusionMatrix[1][1]) / (confusionMatrix[0][1] + confusionMatrix[1][1]),\"%\")"
   ]
  },
  {
   "cell_type": "code",
   "execution_count": null,
   "metadata": {},
   "outputs": [],
   "source": [
    "resultImg, resultMeta = utils.mapResultOnImg(pathNight, testCoordsData, resultTest, resultValid)\n",
    "\n",
    "fig, axs = matPlt.subplots(1,3, dpi=240)\n",
    "with rasterio.open(pathSatellite) as s: utils.displayTiles([s.read()], [s.transform],axs[0])\n",
    "\n",
    "axs[2].set_xlim(axs[0].get_xlim())\n",
    "axs[2].set_ylim(axs[0].get_ylim())\n",
    "\n",
    "with rasterio.open(pathValidation) as p: rastPlt.show(p, ax=axs[2])\n",
    "\n",
    "axs[1].set_xlim(axs[0].get_xlim())\n",
    "axs[1].set_ylim(axs[0].get_ylim())\n",
    "\n",
    "utils.displayTiles([resultImg], [resultMeta], axs[1])"
   ]
  },
  {
   "cell_type": "code",
   "execution_count": null,
   "metadata": {},
   "outputs": [],
   "source": [
    "img = np.copy(resultImg)\n",
    "#img[1,:,:] = 150\n",
    "img = img[0:3,:,:]\n",
    "img = img.transpose([1, 2, 0])\n",
    "with rasterio.open(pathNight) as f:\n",
    "  profile = f.profile\n",
    "img = reshape_as_raster(img)\n",
    "profile.update(count=3)\n",
    "print(profile)\n",
    "print(img.shape)"
   ]
  },
  {
   "cell_type": "code",
   "execution_count": null,
   "metadata": {},
   "outputs": [],
   "source": [
    "with rasterio.open(folderName + 'example2.tif', 'w', **profile) as f:\n",
    "  f.write(img)\n"
   ]
  },
  {
   "cell_type": "code",
   "execution_count": null,
   "metadata": {},
   "outputs": [],
   "source": [
    "print(resultImg[:,301,340])"
   ]
  },
  {
   "cell_type": "code",
   "execution_count": null,
   "metadata": {},
   "outputs": [],
   "source": []
  }
 ],
 "metadata": {
  "kernelspec": {
   "display_name": "Python 3.9.12 ('BT-Junodch')",
   "language": "python",
   "name": "python3"
  },
  "language_info": {
   "codemirror_mode": {
    "name": "ipython",
    "version": 3
   },
   "file_extension": ".py",
   "mimetype": "text/x-python",
   "name": "python",
   "nbconvert_exporter": "python",
   "pygments_lexer": "ipython3",
   "version": "3.9.12"
  },
  "orig_nbformat": 4,
  "vscode": {
   "interpreter": {
    "hash": "0877fde3bc78a9e7113f97fea145bff0c5aa8882703ee053f927d63ca7148c47"
   }
  }
 },
 "nbformat": 4,
 "nbformat_minor": 2
}
