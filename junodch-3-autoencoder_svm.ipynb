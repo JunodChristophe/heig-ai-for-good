{
 "cells": [
  {
   "cell_type": "code",
   "execution_count": null,
   "metadata": {},
   "outputs": [],
   "source": [
    "import junodch_utils_read_img as utils\n",
    "\n",
    "import matplotlib.pyplot as matPlt\n",
    "import numpy as np\n",
    "from sklearn.svm import OneClassSVM\n",
    "from sklearn.metrics import confusion_matrix\n",
    "\n",
    "import rasterio\n",
    "import keras\n",
    "from keras import layers\n",
    "from rasterio import plot as rastPlt"
   ]
  },
  {
   "cell_type": "markdown",
   "metadata": {},
   "source": [
    "# Data preparation\n",
    "### Fetch data from file"
   ]
  },
  {
   "cell_type": "code",
   "execution_count": null,
   "metadata": {},
   "outputs": [],
   "source": [
    "def formatDataForSVM(data, res=32, toFloat=True):\n",
    "  # fix inconcistant shapes\n",
    "  newData = []\n",
    "  for i, d in enumerate(data):\n",
    "    npdata = np.copy(d)\n",
    "    if npdata.shape[1] < res or npdata.shape[2] < res:\n",
    "      pad1 = res - npdata.shape[1]\n",
    "      pad2 = res - npdata.shape[2]\n",
    "      npdata = np.lib.pad(npdata, ((0,0),(0,pad1 if pad1 > 0 else 0),(0,pad2 if pad2 > 0 else 0)), 'constant', constant_values=(0))\n",
    "    if npdata.shape[1] > res or npdata.shape[2] > res:\n",
    "      npdata=npdata[:,0:res,0:res]\n",
    "    newData.append(npdata.flatten())\n",
    "\n",
    "  # to numpy\n",
    "  newData = np.asarray(newData)\n",
    "  if toFloat:\n",
    "    newData = newData.astype(\"float32\") / 255.0\n",
    "  \n",
    "  return newData\n",
    "\n",
    "def displayResultSVM(svm, dataInput, res=64):\n",
    "  MAX_ON_ROW = 20\n",
    "  total = len(dataInput)\n",
    "  nRow = (total // MAX_ON_ROW) + 1\n",
    "  nCol = MAX_ON_ROW if total > MAX_ON_ROW else total\n",
    "\n",
    "  score = svm.predict(formatDataForSVM(dataInput,res=res, toFloat=True))\n",
    "  imgs = utils.formatData(dataInput, res=res, toFloat=True)\n",
    "  matPlt.figure(figsize=(30,nRow*2))\n",
    "  for i in range(0, total):\n",
    "    ax = matPlt.subplot(nRow, nCol, 1+i)\n",
    "    matPlt.title('T' if score[i] == 1 else 'F')\n",
    "    matPlt.imshow(imgs[i])\n",
    "    ax.get_xaxis().set_visible(False)\n",
    "    ax.get_yaxis().set_visible(False)\n",
    "  matPlt.show()\n"
   ]
  },
  {
   "cell_type": "code",
   "execution_count": null,
   "metadata": {},
   "outputs": [],
   "source": [
    "folderName = \"img/Sokoto/\"\n",
    "pathSatellite = folderName + \"Sentinel-2.tif\"\n",
    "#pathNight = folderName + \"Night VIIRS_1.tif\"\n",
    "pathNight = folderName + \"lowres_night_1.tif\"\n",
    "pathValidation = folderName + \"Population GHSL_1.tif\"\n",
    "\n",
    "aoi = utils.getImgBorder(pathSatellite)\n",
    "\n",
    "# Fetch coords\n",
    "dataCoords, dataRadiance = utils.getTilesCoordsPerimeter(pathNight, validThreshold=1, area=aoi)\n",
    "\n",
    "trainMask = dataRadiance>25\n",
    "lightCoords = dataCoords[trainMask]\n",
    "\n",
    "print('Tiles:',dataCoords.shape[0])\n",
    "print('Light Tile:',lightCoords.shape[0])\n"
   ]
  },
  {
   "cell_type": "code",
   "execution_count": null,
   "metadata": {},
   "outputs": [],
   "source": [
    "# Fetch images\n",
    "with rasterio.open(pathSatellite) as f:\n",
    "  trainData, _ = utils.getEachImgFromCoord(f, dataCoords[trainMask], True)\n",
    "trainData = utils.formatData(trainData, res=64, toFloat=True)"
   ]
  },
  {
   "cell_type": "markdown",
   "metadata": {},
   "source": [
    "## svm"
   ]
  },
  {
   "cell_type": "code",
   "execution_count": null,
   "metadata": {},
   "outputs": [],
   "source": [
    "autoencoder = keras.models.load_model('model/autoencoder_64x64_encoder_1024')\n",
    "#autoencoder = keras.models.load_model('model/autoencoder_32x32_encoder_256')\n",
    "encoder = keras.Model(inputs=autoencoder.inputs, outputs=autoencoder.get_layer('encoder').output)"
   ]
  },
  {
   "cell_type": "code",
   "execution_count": null,
   "metadata": {},
   "outputs": [],
   "source": [
    "testCoordsData = dataCoords[::100]\n",
    "#testCoordsData = dataCoords\n",
    "\n",
    "print('Process validation...')\n",
    "getValid = lambda data : [ int(any([ any(c > 250 for c in row) for row in img[0] ])) for img in data ]\n",
    "resultValid = utils.scanSatellite(pathValidation, testCoordsData, getValid, batch=1000)"
   ]
  },
  {
   "cell_type": "code",
   "execution_count": null,
   "metadata": {},
   "outputs": [],
   "source": [
    "svm = OneClassSVM(gamma='scale', kernel='rbf', nu=0.8, tol=1e-3)\n",
    "svm = svm.fit(encoder.predict(trainData), sample_weight=dataRadiance[trainMask])\n",
    "\n",
    "getScore = lambda data : [1 if i == 1 else 0 for i in svm.predict(encoder.predict(utils.formatData(data, res=64, toFloat=True), verbose=0))]\n",
    "\n",
    "print('Process score...')\n",
    "result = utils.scanSatellite(pathSatellite, testCoordsData, getScore, batch=1000)\n",
    "\n",
    "print('Process confustion matrix...')\n",
    "print('total:',len(result))\n",
    "cm = confusion_matrix(resultValid, result)\n",
    "print(cm)\n",
    "print('accuracy:',np.round((cm[1][1])/(cm[0][1]+cm[1][1])*100,2),'%')"
   ]
  },
  {
   "cell_type": "code",
   "execution_count": null,
   "metadata": {},
   "outputs": [],
   "source": [
    "resultImg, resultMeta = utils.mapResultOnImg(pathNight, testCoordsData, result, resultValid)\n",
    "\n",
    "fig, axs = matPlt.subplots(1,3, dpi=240)\n",
    "with rasterio.open(pathSatellite) as s: utils.displayTiles([s.read()], [s.transform],axs[0])\n",
    "\n",
    "axs[2].set_xlim(axs[0].get_xlim())\n",
    "axs[2].set_ylim(axs[0].get_ylim())\n",
    "\n",
    "with rasterio.open(pathValidation) as p: rastPlt.show(p, ax=axs[2])\n",
    "\n",
    "axs[1].set_xlim(axs[0].get_xlim())\n",
    "axs[1].set_ylim(axs[0].get_ylim())\n",
    "\n",
    "utils.displayTiles([resultImg], [resultMeta], axs[1])"
   ]
  },
  {
   "cell_type": "markdown",
   "metadata": {},
   "source": [
    "## Test"
   ]
  },
  {
   "cell_type": "code",
   "execution_count": null,
   "metadata": {},
   "outputs": [],
   "source": [
    "#indexesTest = [*np.argwhere(trainMask)[-20:].flatten(), *range(0,1), *range(1104,1108), *range(1118,1123), *range(4005,4010), *range(10005,10010)]\n",
    "indexesTest = [*np.argwhere(trainMask)[-20:].flatten(), *range(0,1), *range(1104,1108), *range(1118,1123)]\n",
    "\n",
    "with rasterio.open(pathSatellite) as f:\n",
    "  dataTest, _ = utils.getEachImgFromCoord(f, dataCoords[indexesTest], True)\n",
    "\n",
    "displayResultSVM(svm, dataTest)"
   ]
  },
  {
   "cell_type": "code",
   "execution_count": null,
   "metadata": {},
   "outputs": [],
   "source": []
  }
 ],
 "metadata": {
  "kernelspec": {
   "display_name": "Python 3.9.12 ('BT-Junodch')",
   "language": "python",
   "name": "python3"
  },
  "language_info": {
   "codemirror_mode": {
    "name": "ipython",
    "version": 3
   },
   "file_extension": ".py",
   "mimetype": "text/x-python",
   "name": "python",
   "nbconvert_exporter": "python",
   "pygments_lexer": "ipython3",
   "version": "3.9.12"
  },
  "orig_nbformat": 4,
  "vscode": {
   "interpreter": {
    "hash": "0877fde3bc78a9e7113f97fea145bff0c5aa8882703ee053f927d63ca7148c47"
   }
  }
 },
 "nbformat": 4,
 "nbformat_minor": 2
}
