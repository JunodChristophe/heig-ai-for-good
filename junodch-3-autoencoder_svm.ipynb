{
 "cells": [
  {
   "cell_type": "code",
   "execution_count": null,
   "metadata": {},
   "outputs": [],
   "source": [
    "import junodch_utils_read_img as utils\n",
    "\n",
    "import matplotlib.pyplot as matPlt\n",
    "import numpy as np\n",
    "import keras\n",
    "from sklearn.svm import OneClassSVM\n",
    "from sklearn.metrics import confusion_matrix\n",
    "from shapely.geometry import Polygon, box\n",
    "\n",
    "import rasterio\n",
    "from rasterio import plot as rastPlt\n",
    "from rasterio.mask import mask as rasterMask\n",
    "from rasterio.plot import reshape_as_raster"
   ]
  },
  {
   "cell_type": "markdown",
   "metadata": {},
   "source": [
    "# Data preparation\n",
    "### Fetch data from file"
   ]
  },
  {
   "cell_type": "code",
   "execution_count": null,
   "metadata": {},
   "outputs": [],
   "source": [
    "folderName = \"img/Sokoto/\"\n",
    "pathSatellite = folderName + \"Sentinel-2.tif\"\n",
    "pathNight = folderName + \"Night_VIIRS.tif\"\n",
    "pathValidation = folderName + \"Population_GHSL.tif\"\n",
    "\n",
    "aoi = utils.getImgBorder(pathSatellite)\n",
    "\n",
    "# Fetch coords\n",
    "dataCoords, dataRadiance = utils.getTilesCoordsPerimeter(pathNight, area=aoi)\n",
    "\n",
    "lightMask = dataRadiance>0\n",
    "lightCoords = dataCoords[lightMask]\n",
    "\n",
    "print('Tiles:',dataCoords.shape[0])\n",
    "print('Light Tile:',lightCoords.shape[0])\n"
   ]
  },
  {
   "cell_type": "markdown",
   "metadata": {},
   "source": [
    "#### Fetch images"
   ]
  },
  {
   "cell_type": "code",
   "execution_count": null,
   "metadata": {},
   "outputs": [],
   "source": [
    "with rasterio.open(pathSatellite) as f:\n",
    "  trainData, _ = utils.coordsToImgsFormated(f, lightCoords, res=64)\n",
    "print(trainData.shape)"
   ]
  },
  {
   "cell_type": "markdown",
   "metadata": {},
   "source": [
    "#### Prepare Validation"
   ]
  },
  {
   "cell_type": "code",
   "execution_count": null,
   "metadata": {},
   "outputs": [],
   "source": [
    "with rasterio.open(pathValidation) as f:\n",
    "  testTile, _ = rasterMask(f, [Polygon(dataCoords[1000])], crop=True)\n",
    "print('Validation shape:',testTile.shape) # shape sample\n",
    "\n",
    "print('Process validation...')\n",
    "getValid = lambda data : [ int(250/255 < img.max()) for img in data ]\n",
    "resultValid = utils.scanSatellite(pathValidation, dataCoords, getValid, batch=1000, res=testTile.shape[1])"
   ]
  },
  {
   "cell_type": "markdown",
   "metadata": {},
   "source": [
    "## Autoencoder + SVM"
   ]
  },
  {
   "cell_type": "code",
   "execution_count": null,
   "metadata": {},
   "outputs": [],
   "source": [
    "autoencoder = keras.models.load_model('model/autoencoder_64px_encoder_1024')\n",
    "encoder = keras.Model(inputs=autoencoder.inputs, outputs=autoencoder.get_layer('encoder').output)\n",
    "\n",
    "trainDataFormated = encoder.predict(trainData)\n",
    "validation = dataRadiance[lightMask]"
   ]
  },
  {
   "cell_type": "code",
   "execution_count": null,
   "metadata": {},
   "outputs": [],
   "source": [
    "svm = OneClassSVM(gamma='scale', kernel='rbf', nu=0.8, tol=1e-3)\n",
    "svm = svm.fit(trainDataFormated, sample_weight=dataRadiance[lightMask])"
   ]
  },
  {
   "cell_type": "markdown",
   "metadata": {},
   "source": [
    "# Analyse model"
   ]
  },
  {
   "cell_type": "code",
   "execution_count": null,
   "metadata": {},
   "outputs": [],
   "source": [
    "print('Process score...')\n",
    "getScore = lambda data : [1 if i == 1 else 0 for i in svm.predict(encoder.predict(data, verbose=0))]\n",
    "result = utils.scanSatellite(pathSatellite, dataCoords, getScore, batch=100, res=64)"
   ]
  },
  {
   "cell_type": "markdown",
   "metadata": {},
   "source": [
    "# Confusion Matrix"
   ]
  },
  {
   "cell_type": "code",
   "execution_count": null,
   "metadata": {},
   "outputs": [],
   "source": [
    "print('Process confustion matrix...')\n",
    "print('total',len(result))\n",
    "confusionMatrix = confusion_matrix(resultValid, result)\n",
    "print(confusionMatrix)\n",
    "tp = confusionMatrix[1][1]\n",
    "fp = confusionMatrix[0][1]\n",
    "fn = confusionMatrix[1][0]\n",
    "print('f-score:',round(tp / (tp + (fp + fn)/2) * 100, 2),\"%\")\n",
    "print('tp / fp:',round(tp / (tp + fp) * 100,2),\"%\")"
   ]
  },
  {
   "cell_type": "markdown",
   "metadata": {},
   "source": [
    "# Display the analysed results"
   ]
  },
  {
   "cell_type": "code",
   "execution_count": null,
   "metadata": {},
   "outputs": [],
   "source": [
    "resultImg, resultMeta = utils.mapResultOnImg(pathNight, dataCoords, result, resultValid)\n",
    "\n",
    "fig, axs = matPlt.subplots(1,3, dpi=240)\n",
    "with rasterio.open(pathSatellite) as s: utils.displayTiles([s.read()], [s.transform],axs[0])\n",
    "\n",
    "axs[2].set_xlim(axs[0].get_xlim())\n",
    "axs[2].set_ylim(axs[0].get_ylim())\n",
    "\n",
    "with rasterio.open(pathValidation) as p: rastPlt.show(p, ax=axs[2])\n",
    "\n",
    "axs[1].set_xlim(axs[0].get_xlim())\n",
    "axs[1].set_ylim(axs[0].get_ylim())\n",
    "\n",
    "utils.displayTiles([resultImg], [resultMeta], axs[1])"
   ]
  },
  {
   "cell_type": "markdown",
   "metadata": {},
   "source": [
    "## Test"
   ]
  },
  {
   "cell_type": "code",
   "execution_count": null,
   "metadata": {},
   "outputs": [],
   "source": [
    "img = np.copy(resultImg)\n",
    "img = img[0:3,:,:]\n",
    "img = img.transpose([1, 2, 0])\n",
    "with rasterio.open(pathNight) as f:\n",
    "  profile = f.profile\n",
    "img = reshape_as_raster(img)\n",
    "profile.update(count=3)\n",
    "print(profile)\n",
    "print(img.shape)\n",
    "with rasterio.open(folderName + 'autoencoder_svm_result.tif', 'w', **profile) as f:\n",
    "  f.write(img)"
   ]
  },
  {
   "cell_type": "code",
   "execution_count": null,
   "metadata": {},
   "outputs": [],
   "source": []
  }
 ],
 "metadata": {
  "kernelspec": {
   "display_name": "Python 3.9.12 ('BT-Junodch')",
   "language": "python",
   "name": "python3"
  },
  "language_info": {
   "codemirror_mode": {
    "name": "ipython",
    "version": 3
   },
   "file_extension": ".py",
   "mimetype": "text/x-python",
   "name": "python",
   "nbconvert_exporter": "python",
   "pygments_lexer": "ipython3",
   "version": "3.9.12"
  },
  "orig_nbformat": 4,
  "vscode": {
   "interpreter": {
    "hash": "0877fde3bc78a9e7113f97fea145bff0c5aa8882703ee053f927d63ca7148c47"
   }
  }
 },
 "nbformat": 4,
 "nbformat_minor": 2
}
