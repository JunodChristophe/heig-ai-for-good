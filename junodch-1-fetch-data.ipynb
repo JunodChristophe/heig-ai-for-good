{
 "cells": [
  {
   "cell_type": "markdown",
   "id": "43ef4a7e",
   "metadata": {},
   "source": [
    "# Fetch Satellites Images\n",
    "This notebooke can be use to visualize the map and select an area to download a satellite image easily. The download process can be time consuming and it's recommended to preview the image beforehand to avoid potential errors as this process is not foolproof. Most of the code is in satellites.py.\n",
    "It's also recommended to run this notebook on the browser with Jupyter rather that on an editor like Visual Studio. (The map is buggy on visual studio.)"
   ]
  },
  {
   "cell_type": "code",
   "execution_count": 1,
   "id": "09279401-15cb-406f-846e-15885ffe1442",
   "metadata": {},
   "outputs": [],
   "source": [
    "from ipyleaflet import *\n",
    "\n",
    "import numpy as np\n",
    "import contextily\n",
    "\n",
    "import junodch_satellites as utilSat\n",
    "from os.path import exists\n",
    "\n",
    "import ee\n",
    "from geemap import *\n",
    "\n",
    "#import osmnx as ox\n",
    "# from OSMPythonTools.api import OSM_api"
   ]
  },
  {
   "cell_type": "markdown",
   "id": "8dd797f4",
   "metadata": {},
   "source": [
    "Uncomment the following to settup earth engine if this is the first time you use it on your environnement (can be skip afterward)"
   ]
  },
  {
   "cell_type": "code",
   "execution_count": 2,
   "id": "b94e49e6-6f44-410c-8d1d-e7b4c114421e",
   "metadata": {},
   "outputs": [],
   "source": [
    "#ee.Authenticate()"
   ]
  },
  {
   "cell_type": "code",
   "execution_count": 3,
   "id": "6635b735-2b55-4e47-be73-ceb23bb15bea",
   "metadata": {},
   "outputs": [],
   "source": [
    "ee.Initialize()"
   ]
  },
  {
   "cell_type": "code",
   "execution_count": 4,
   "id": "b85e18c2-033d-44c0-a9d1-264f945aac9b",
   "metadata": {},
   "outputs": [
    {
     "data": {
      "application/vnd.jupyter.widget-view+json": {
       "model_id": "afd1281caa3549889f4ac28679f5c603",
       "version_major": 2,
       "version_minor": 0
      },
      "text/plain": [
       "Map(center=[0, 0], controls=(WidgetControl(options=['position', 'transparent_bg'], widget=HBox(children=(Toggl…"
      ]
     },
     "metadata": {},
     "output_type": "display_data"
    }
   ],
   "source": [
    "satData = [\n",
    "  utilSat.NightVIIRS(1,5),\n",
    "  utilSat.popGHSL(),\n",
    "  utilSat.Sentinel2(),\n",
    "  utilSat.Landsat8_old(),\n",
    "]\n",
    "\n",
    "m = geemap.Map(center=(0, 0), zoom=4)\n",
    "m.add_control(ScaleControl(position=\"topright\"))\n",
    "m.add_control(LayersControl())\n",
    "utilSat.displayArea(m, satData, 0)\n"
   ]
  },
  {
   "cell_type": "code",
   "execution_count": null,
   "id": "1a99efb1-5115-46fb-af89-e198f1a2ca46",
   "metadata": {},
   "outputs": [],
   "source": []
  }
 ],
 "metadata": {
  "kernelspec": {
   "display_name": "Python 3 (ipykernel)",
   "language": "python",
   "name": "python3"
  },
  "language_info": {
   "codemirror_mode": {
    "name": "ipython",
    "version": 3
   },
   "file_extension": ".py",
   "mimetype": "text/x-python",
   "name": "python",
   "nbconvert_exporter": "python",
   "pygments_lexer": "ipython3",
   "version": "3.9.12"
  },
  "vscode": {
   "interpreter": {
    "hash": "0877fde3bc78a9e7113f97fea145bff0c5aa8882703ee053f927d63ca7148c47"
   }
  }
 },
 "nbformat": 4,
 "nbformat_minor": 5
}
