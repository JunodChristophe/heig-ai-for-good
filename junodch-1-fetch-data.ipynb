{
 "cells": [
  {
   "cell_type": "code",
   "execution_count": null,
   "id": "09279401-15cb-406f-846e-15885ffe1442",
   "metadata": {},
   "outputs": [],
   "source": [
    "from ipyleaflet import *\n",
    "\n",
    "import numpy as np\n",
    "import contextily\n",
    "\n",
    "import junodch_satellites as utilSat\n",
    "\n",
    "import ee\n",
    "from geemap import *\n",
    "\n",
    "#import osmnx as ox\n",
    "# from OSMPythonTools.api import OSM_api"
   ]
  },
  {
   "cell_type": "code",
   "execution_count": null,
   "id": "b94e49e6-6f44-410c-8d1d-e7b4c114421e",
   "metadata": {},
   "outputs": [],
   "source": [
    "# To run once for setting up earth engine\n",
    "#ee.Authenticate()"
   ]
  },
  {
   "cell_type": "code",
   "execution_count": null,
   "id": "6635b735-2b55-4e47-be73-ceb23bb15bea",
   "metadata": {},
   "outputs": [],
   "source": [
    "ee.Initialize()"
   ]
  },
  {
   "cell_type": "markdown",
   "id": "a1b244a8-a21c-404a-b648-bbf4c81211ab",
   "metadata": {},
   "source": [
    "# Fetch satellite images"
   ]
  },
  {
   "cell_type": "code",
   "execution_count": null,
   "id": "93a2bbc3-5f8b-4994-8ff6-4330e024b438",
   "metadata": {},
   "outputs": [],
   "source": [
    "def extractCoordFromFeatureCollection(features, precision):\n",
    "    aoi = utilSat.AOI()\n",
    "    aoi.isEmpty = True\n",
    "    if features.size().getInfo() != 0:\n",
    "        coord = features.first().geometry().getInfo()['coordinates']\n",
    "        coord = np.array(coord).reshape(-1, 2) # Reshap in one array of tuple\n",
    "        if len(coord) != 0:\n",
    "            aoi.isEmpty = False\n",
    "            aoi.yMin = round(min([y for x, y in coord]),precision)\n",
    "            aoi.xMin = round(min([x for x, y in coord]),precision)\n",
    "            aoi.yMax = round(max([y for x, y in coord]),precision)\n",
    "            aoi.xMax = round(max([x for x, y in coord]),precision)\n",
    "    return aoi"
   ]
  },
  {
   "cell_type": "code",
   "execution_count": null,
   "id": "73758e0e-e10b-45bc-991c-e785d53caebb",
   "metadata": {},
   "outputs": [],
   "source": [
    "def saveImageFromGeeData(folderName, sat, aoi, aoiEE, date_start, date_end):\n",
    "    offset = 100\n",
    "    # lontal : 0.25 square at zoom=14\n",
    "    refStep = 4096\n",
    "    step = int(refStep*offset/(2**sat.zoom))\n",
    "    count = 0\n",
    "    \n",
    "    x_min = int(aoi.xMin*offset)\n",
    "    x_max = int(aoi.xMax*offset)\n",
    "    y_min = int(aoi.yMin*offset)\n",
    "    y_max = int(aoi.yMax*offset)\n",
    "    \n",
    "    aoiEEsquare = ee.Geometry.Rectangle([aoi.xMin, aoi.yMin, aoi.xMax, aoi.yMax])\n",
    "\n",
    "    data = sat.getDataWithArea(aoiEE, date_start, date_end).clip(aoiEE)\n",
    "    url = data.getMapId(sat.vis)[\"tile_fetcher\"].url_format\n",
    "    \n",
    "    folderName = 'img/'+folderName\n",
    "    os.makedirs(folderName,exist_ok=True)\n",
    "    relativeFolderName = folderName+'/'+sat.name\n",
    "    fullPath = os.path.join(os.getcwd(),relativeFolderName+'.tif')\n",
    "    \n",
    "    # Old attempt\n",
    "    #geemap.ee_export_image(data, filename=fullPath, scale=14,region=aoiEE,file_per_band=False)\n",
    "    \n",
    "    for x in range(x_min, x_max, step):\n",
    "        for y in range(y_min, y_max, step):\n",
    "            count += 1\n",
    "            \n",
    "            east = x_max/offset if (x+step > x_max) else (x+step)/offset\n",
    "            west = x/offset\n",
    "            north = y_max/offset if (y+step > y_max) else (y+step)/offset\n",
    "            south = y/offset\n",
    "            \n",
    "            print(count,'w:',west,'e:',east,'s:',south,'n:',north)\n",
    "            _, _ = contextily.bounds2raster(west,south,east,north,ll=True,path=relativeFolderName+'_'+str(count)+'.tif',source=url, zoom=sat.zoom)\n",
    "            print('Done')"
   ]
  },
  {
   "cell_type": "code",
   "execution_count": null,
   "id": "0c0c672f-8290-4c59-a836-149f270a7763",
   "metadata": {
    "tags": []
   },
   "outputs": [],
   "source": [
    "def displayArea(m, listSatellite, precision = 3):\n",
    "        \n",
    "    def on_save_btn_clicked(e):\n",
    "        with output:\n",
    "            aoiEE = ee.FeatureCollection(m.draw_last_feature)\n",
    "            aoi = extractCoordFromFeatureCollection(aoiEE, precision)\n",
    "            \n",
    "            if (datepicker_start.value != None and datepicker_end.value != None \n",
    "                and datepicker_start.value < datepicker_end.value \n",
    "                and titleField.value != '' \n",
    "                and not aoi.isEmpty):\n",
    "                \n",
    "                for sat in listSatellite:\n",
    "                    m.remove_ee_layer(sat.name)\n",
    "\n",
    "                date_start = datepicker_start.value.strftime('%Y-%m-%d')\n",
    "                date_end = datepicker_end.value.strftime('%Y-%m-%d')\n",
    "                \n",
    "                for sat in listSatellite:\n",
    "                    print(sat.name)\n",
    "                    m.addLayer(sat.getDataWithArea(aoiEE, date_start, date_end).clip(aoiEE), sat.vis, sat.name)\n",
    "                    saveImageFromGeeData(titleField.value, sat, aoi, aoiEE, date_start, date_end)\n",
    "\n",
    "    def on_add_btn_clicked(e):\n",
    "        with output:\n",
    "            aoiEE = ee.FeatureCollection(m.draw_features)\n",
    "            aoi = extractCoordFromFeatureCollection(aoiEE, precision)\n",
    "            print(aoi.isEmpty)\n",
    "            if (datepicker_start.value != None and datepicker_end.value != None):\n",
    "                for sat in listSatellite:\n",
    "                    m.remove_ee_layer(sat.name)\n",
    "                date_start = datepicker_start.value.strftime('%Y-%m-%d')\n",
    "                date_end = datepicker_end.value.strftime('%Y-%m-%d')\n",
    "                for sat in listSatellite:\n",
    "                    if aoi.isEmpty:\n",
    "                        m.addLayer(sat.getDataWithDate(date_start, date_end).clip(aoiEE), sat.vis, sat.name)\n",
    "                    else:\n",
    "                        m.addLayer(sat.getDataWithArea(aoiEE,date_start, date_end).clip(aoiEE), sat.vis, sat.name)\n",
    "\n",
    "    def show_coordinates(**args):\n",
    "        latlon = args.get('coordinates')\n",
    "        if args.get('type') == 'mousemove':\n",
    "            with output_widget:\n",
    "                output_widget.clear_output()\n",
    "                print(latlon)\n",
    "        \n",
    "    \n",
    "    output_widget = widgets.Output()\n",
    "    output_mouse_coordinates = WidgetControl(widget=output_widget, position='bottomright')\n",
    "    \n",
    "    datepicker_start = widgets.DatePicker(description='Start date',disabled=False)\n",
    "    datepicker_end = widgets.DatePicker(description='End date',disabled=False)\n",
    "    \n",
    "    titleField = widgets.Text(\n",
    "        value='',\n",
    "        placeholder='Type the project title here',\n",
    "        description='String:',\n",
    "        disabled=False\n",
    "    )\n",
    "    addBtn = widgets.Button(description=\"add btn !\")\n",
    "    saveBtn = widgets.Button(description=\"save btn !\")\n",
    "    output = widgets.Output()\n",
    "    \n",
    "    addBtn.on_click(on_add_btn_clicked)\n",
    "    saveBtn.on_click(on_save_btn_clicked)\n",
    "    \n",
    "    m.add_control(output_mouse_coordinates)\n",
    "    m.on_interaction(show_coordinates)\n",
    "    \n",
    "    m.draw_features\n",
    "    m.draw_last_feature\n",
    "    \n",
    "    display(m)\n",
    "    display(titleField)\n",
    "    display(datepicker_start)\n",
    "    display(datepicker_end)\n",
    "    display(addBtn)\n",
    "    display(saveBtn)\n"
   ]
  },
  {
   "cell_type": "code",
   "execution_count": null,
   "id": "b85e18c2-033d-44c0-a9d1-264f945aac9b",
   "metadata": {},
   "outputs": [],
   "source": [
    "satData = [\n",
    "  #utilSat.NightVIIRS(1,2),\n",
    "  utilSat.popGHSL(),\n",
    "  #utilSat.Sentinel2(),\n",
    "  #utilSat.Landsat8(),\n",
    "]\n",
    "\n",
    "m = geemap.Map(center=(0, 0), zoom=4)\n",
    "m.add_control(ScaleControl(position=\"topright\"))\n",
    "m.add_control(LayersControl())\n",
    "displayArea(m, satData, 0)\n"
   ]
  },
  {
   "cell_type": "code",
   "execution_count": null,
   "id": "1a99efb1-5115-46fb-af89-e198f1a2ca46",
   "metadata": {},
   "outputs": [],
   "source": []
  }
 ],
 "metadata": {
  "kernelspec": {
   "display_name": "Python 3 (ipykernel)",
   "language": "python",
   "name": "python3"
  },
  "language_info": {
   "codemirror_mode": {
    "name": "ipython",
    "version": 3
   },
   "file_extension": ".py",
   "mimetype": "text/x-python",
   "name": "python",
   "nbconvert_exporter": "python",
   "pygments_lexer": "ipython3",
   "version": "3.9.12"
  },
  "vscode": {
   "interpreter": {
    "hash": "0877fde3bc78a9e7113f97fea145bff0c5aa8882703ee053f927d63ca7148c47"
   }
  }
 },
 "nbformat": 4,
 "nbformat_minor": 5
}
