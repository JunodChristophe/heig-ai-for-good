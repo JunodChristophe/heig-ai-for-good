{
 "cells": [
  {
   "cell_type": "code",
   "execution_count": null,
   "metadata": {},
   "outputs": [],
   "source": [
    "import matplotlib.pyplot as matPlt\n",
    "import numpy as np\n",
    "import tensorflow as tf\n",
    "import keras\n",
    "from keras import layers\n",
    "\n",
    "from tqdm.keras import TqdmCallback\n",
    "from sklearn.metrics import confusion_matrix\n",
    "\n",
    "import rasterio\n",
    "from rasterio import plot as rastPlt\n",
    "from rasterio.plot import reshape_as_raster\n",
    "from rasterio.mask import mask as rasterMask\n",
    "\n",
    "from shapely.geometry import Polygon, box\n",
    "import junodch_utils_read_img as utils"
   ]
  },
  {
   "cell_type": "markdown",
   "metadata": {},
   "source": [
    "# Data preparation\n",
    "### Fetch data from file"
   ]
  },
  {
   "cell_type": "code",
   "execution_count": null,
   "metadata": {},
   "outputs": [],
   "source": [
    "folderName = \"img/Sokoto/\"\n",
    "pathSatellite = folderName + \"Sentinel-2.tif\"\n",
    "#pathSatellite = folderName + \"Landsat-8.tif\"\n",
    "pathNight = folderName + \"Night VIIRS_1.tif\"\n",
    "#pathNight = folderName + \"lowres_night_1.tif\"\n",
    "pathValidation = folderName + \"Population GHSL_1.tif\"\n",
    "\n",
    "aoi = utils.getImgBorder(pathSatellite)\n",
    "\n",
    "# Fetch coords\n",
    "dataCoords, dataRadiance = utils.getTilesCoordsPerimeter(pathNight, area=aoi)\n",
    "\n",
    "print('Tiles:',dataCoords.shape[0])\n"
   ]
  },
  {
   "cell_type": "markdown",
   "metadata": {},
   "source": [
    "#### Validation"
   ]
  },
  {
   "cell_type": "code",
   "execution_count": null,
   "metadata": {},
   "outputs": [],
   "source": [
    "with rasterio.open(pathValidation) as f:\n",
    "  testTile, _ = rasterMask(f, [Polygon(dataCoords[1000])], crop=True)\n",
    "print('Validation shape:',testTile.shape) # shape sample\n",
    "\n",
    "print('Process validation...')\n",
    "getValid = lambda data : [ int(250/255 < img.max()) for img in data ]\n",
    "resultValid = utils.scanSatellite(pathValidation, dataCoords, getValid, batch=1000, res=testTile.shape[1])"
   ]
  },
  {
   "cell_type": "markdown",
   "metadata": {},
   "source": [
    "#### Fetch Images"
   ]
  },
  {
   "cell_type": "code",
   "execution_count": null,
   "metadata": {},
   "outputs": [],
   "source": [
    "# Fetch images\n",
    "lightMask = dataRadiance>250\n",
    "lightCoords = dataCoords[lightMask]\n",
    "\n",
    "idxDarkData = np.random.choice(np.arange(dataCoords.shape[0])[(dataRadiance<2) & (resultValid == 0)], 2000, replace=False)\n",
    "darkCoords = dataCoords[idxDarkData]\n",
    "\n",
    "trainCoords = np.concatenate((lightCoords, darkCoords))\n",
    "\n",
    "with rasterio.open(pathSatellite) as f:\n",
    "  trainData, _ = utils.coordsToImgsFormated(f, trainCoords, res=32)\n",
    "print(trainData.shape)\n",
    "\n",
    "print('Light Tile:',len(lightCoords))\n",
    "print('dark Tile:',len(darkCoords))\n",
    "print('Total train',trainData.shape)"
   ]
  },
  {
   "cell_type": "markdown",
   "metadata": {},
   "source": [
    "## CNN"
   ]
  },
  {
   "cell_type": "code",
   "execution_count": null,
   "metadata": {},
   "outputs": [],
   "source": [
    "#autoencoder = keras.models.load_model('model/autoencoder_64x64_encoder_1024')\n",
    "#autoencoder = keras.models.load_model('model/autoencoder_32x32_encoder_256')\n",
    "autoencoder = keras.models.load_model('model/autoencoder_32px_encoder_512')\n",
    "encoder = keras.Model(inputs=autoencoder.inputs, outputs=autoencoder.get_layer('encoder').output)\n",
    "\n",
    "train = encoder.predict(trainData)\n",
    "validation = np.concatenate((dataRadiance[lightMask], dataRadiance[idxDarkData])).astype(\"float32\") / 255"
   ]
  },
  {
   "cell_type": "code",
   "execution_count": null,
   "metadata": {},
   "outputs": [],
   "source": [
    "# Input encoder\n",
    "input_shape = keras.Input(shape=train.shape[1:])\n",
    "\n",
    "optimizer = keras.optimizers.Adam(\n",
    "  learning_rate=0.0001,\n",
    "  beta_1=0.9,\n",
    "  beta_2=0.999,\n",
    ")\n",
    "lossFunction = keras.losses.MeanSquaredError() # l2\n",
    "\n",
    "activationFunction = 'relu'\n",
    "\n",
    "earlyStop = tf.keras.callbacks.EarlyStopping(monitor='loss', min_delta=0, patience=5)\n",
    "\n",
    "cnn = layers.Dense(512, activation=activationFunction)(input_shape)\n",
    "cnn = layers.Dense(128, activation=activationFunction)(cnn)\n",
    "cnn = layers.Dense(1, activation='sigmoid')(cnn)\n",
    "\n",
    "model = keras.Model(input_shape, cnn)\n",
    "model.compile(optimizer=optimizer, loss=lossFunction)\n",
    "\n",
    "result = model.fit(\n",
    "  x=train[::2],\n",
    "  y=validation[::2],\n",
    "  epochs=20,\n",
    "  batch_size=20,\n",
    "  shuffle=True,\n",
    "  verbose=0,\n",
    "  validation_data=(train[1::2],validation[1::2]),\n",
    "  callbacks=[\n",
    "    TqdmCallback(verbose=1), # Concise display progression\n",
    "    earlyStop,\n",
    "  ],\n",
    ")"
   ]
  },
  {
   "cell_type": "code",
   "execution_count": null,
   "metadata": {},
   "outputs": [],
   "source": [
    "matPlt.plot(result.history['loss'][:], label='Training')\n",
    "matPlt.plot(result.history['val_loss'][:], label='test')\n",
    "model.summary()"
   ]
  },
  {
   "cell_type": "code",
   "execution_count": null,
   "metadata": {},
   "outputs": [],
   "source": [
    "print('Process score...')\n",
    "getScore = lambda data : model.predict(encoder.predict(data, verbose=0), verbose=0).flatten()\n",
    "result = utils.scanSatellite(pathSatellite, dataCoords, getScore, batch=1000)"
   ]
  },
  {
   "cell_type": "code",
   "execution_count": null,
   "metadata": {},
   "outputs": [],
   "source": [
    "print('Process confustion matrix...')\n",
    "print(len(result))\n",
    "resultTest = (np.asarray(result) > 0.8).astype(int)\n",
    "confusionMatrix = confusion_matrix(resultValid, resultTest)\n",
    "print(confusionMatrix)\n",
    "print((confusionMatrix[1][1]) / (confusionMatrix[0][1] + confusionMatrix[1][1]) * 100,\"%\")"
   ]
  },
  {
   "cell_type": "code",
   "execution_count": null,
   "metadata": {},
   "outputs": [],
   "source": [
    "resultImg, resultMeta = utils.mapResultOnImg(pathNight, dataCoords, resultTest, resultValid)\n",
    "\n",
    "fig, axs = matPlt.subplots(1,3, dpi=240)\n",
    "with rasterio.open(pathSatellite) as s: utils.displayTiles([s.read()], [s.transform],axs[0])\n",
    "\n",
    "axs[2].set_xlim(axs[0].get_xlim())\n",
    "axs[2].set_ylim(axs[0].get_ylim())\n",
    "\n",
    "with rasterio.open(pathValidation) as p: rastPlt.show(p, ax=axs[2])\n",
    "\n",
    "axs[1].set_xlim(axs[0].get_xlim())\n",
    "axs[1].set_ylim(axs[0].get_ylim())\n",
    "\n",
    "utils.displayTiles([resultImg], [resultMeta], axs[1])"
   ]
  },
  {
   "cell_type": "markdown",
   "metadata": {},
   "source": [
    "## save result"
   ]
  },
  {
   "cell_type": "code",
   "execution_count": null,
   "metadata": {},
   "outputs": [],
   "source": [
    "img = np.copy(resultImg)\n",
    "img = img[0:3,:,:]\n",
    "img = img.transpose([1, 2, 0])\n",
    "with rasterio.open(pathNight) as f:\n",
    "  profile = f.profile\n",
    "img = reshape_as_raster(img)\n",
    "profile.update(count=3)\n",
    "print(profile)\n",
    "print(img.shape)"
   ]
  },
  {
   "cell_type": "code",
   "execution_count": null,
   "metadata": {},
   "outputs": [],
   "source": [
    "with rasterio.open(folderName + 'example3.tif', 'w', **profile) as f:\n",
    "  f.write(img)\n"
   ]
  },
  {
   "cell_type": "code",
   "execution_count": null,
   "metadata": {},
   "outputs": [],
   "source": [
    "print(resultImg[:,301,340])"
   ]
  },
  {
   "cell_type": "code",
   "execution_count": null,
   "metadata": {},
   "outputs": [],
   "source": []
  }
 ],
 "metadata": {
  "kernelspec": {
   "display_name": "Python 3.9.12 ('BT-Junodch')",
   "language": "python",
   "name": "python3"
  },
  "language_info": {
   "codemirror_mode": {
    "name": "ipython",
    "version": 3
   },
   "file_extension": ".py",
   "mimetype": "text/x-python",
   "name": "python",
   "nbconvert_exporter": "python",
   "pygments_lexer": "ipython3",
   "version": "3.9.12"
  },
  "orig_nbformat": 4,
  "vscode": {
   "interpreter": {
    "hash": "0877fde3bc78a9e7113f97fea145bff0c5aa8882703ee053f927d63ca7148c47"
   }
  }
 },
 "nbformat": 4,
 "nbformat_minor": 2
}
