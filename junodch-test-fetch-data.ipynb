{
 "cells": [
  {
   "cell_type": "code",
   "execution_count": null,
   "id": "09279401-15cb-406f-846e-15885ffe1442",
   "metadata": {},
   "outputs": [],
   "source": [
    "from ipyleaflet import *\n",
    "import ipywidgets\n",
    "from ipywidgets.embed import embed_minimal_html\n",
    "from ipywebrtc import WidgetStream, ImageRecorder\n",
    "\n",
    "import json\n",
    "import numpy as np\n",
    "import matplotlib.pyplot as plt\n",
    "#import gdal\n",
    "\n",
    "import rasterio\n",
    "from rasterio import plot\n",
    "from rasterio._base import gdal_version\n",
    "import contextily\n",
    "\n",
    "import ee\n",
    "from geemap import *\n",
    "\n",
    "import osmnx as ox\n",
    "# from OSMPythonTools.api import OSM_api"
   ]
  },
  {
   "cell_type": "code",
   "execution_count": null,
   "id": "b94e49e6-6f44-410c-8d1d-e7b4c114421e",
   "metadata": {},
   "outputs": [],
   "source": [
    "# To run once for setting up earth engine\n",
    "#ee.Authenticate()"
   ]
  },
  {
   "cell_type": "code",
   "execution_count": null,
   "id": "6635b735-2b55-4e47-be73-ceb23bb15bea",
   "metadata": {},
   "outputs": [],
   "source": [
    "ee.Initialize()"
   ]
  },
  {
   "cell_type": "markdown",
   "id": "e2ac9623-9783-4b72-ade1-c75c443059da",
   "metadata": {},
   "source": [
    "# Test"
   ]
  },
  {
   "cell_type": "markdown",
   "id": "cf5d0c99-29c5-4d50-be9d-4d09e65a4b0e",
   "metadata": {},
   "source": [
    "## setup"
   ]
  },
  {
   "cell_type": "code",
   "execution_count": null,
   "id": "ff795337-8948-495c-9c42-3ceeb7dfd89d",
   "metadata": {},
   "outputs": [],
   "source": [
    "date_start = '2021-06-01'\n",
    "date_end = '2021-07-15'\n",
    "\n",
    "aoi = type('', (), {})\n",
    "aoi.yMin = 12.0\n",
    "aoi.xMin = 4.0\n",
    "aoi.yMax = 14.0\n",
    "aoi.xMax = 6.0\n",
    "\n",
    "#aoiEE = ee.Geometry.Point([5.22, 13.05]).buffer(50000).bounds();\n",
    "\n",
    "aoiEE = ee.Geometry.Rectangle([aoi.xMin, aoi.yMin, aoi.xMax, aoi.yMax])"
   ]
  },
  {
   "cell_type": "markdown",
   "id": "a6ff6b85-4a5b-4a6a-b38d-07a38b580b94",
   "metadata": {},
   "source": [
    "## Fetch"
   ]
  },
  {
   "cell_type": "code",
   "execution_count": null,
   "id": "cf955ea6-6b00-455f-8943-16ca5e049f60",
   "metadata": {},
   "outputs": [],
   "source": [
    "s2 = (ee.ImageCollection('COPERNICUS/S2_SR')\n",
    "      .filterDate(date_start, date_end)\n",
    "      .filter(ee.Filter.lt('CLOUDY_PIXEL_PERCENTAGE', 1))\n",
    "      .mosaic().clip(aoiEE)\n",
    "     )\n",
    "s2_vis = {\n",
    "    \"min\": 0, \n",
    "    \"max\": 3000, \n",
    "    \"bands\": ['B4', 'B3', 'B2'],\n",
    "}\n",
    "\n",
    "l8 = (ee.ImageCollection('LANDSAT/LC08/C01/T1_SR')\n",
    "      .filterDate(date_start, date_end)\n",
    "      .filter(ee.Filter.lt('CLOUD_COVER', 20))\n",
    "      .mosaic().clip(aoiEE)\n",
    "     )\n",
    "l8_vis = {\n",
    "    'min': 0, \n",
    "    'max': 3000, \n",
    "    'bands': ['B4', 'B3', 'B2'],\n",
    "}\n",
    "\n",
    "nightNoaa = (ee.ImageCollection('NOAA/VIIRS/DNB/MONTHLY_V1/VCMSLCFG')\n",
    "             .filterDate(date_start, date_end)\n",
    "             .mosaic().clip(aoiEE)\n",
    "            )\n",
    "nightNoaa_vis = {\n",
    "    'min': -15.0, \n",
    "    'max': 1000.0, \n",
    "    'bands': ['avg_rad'], \n",
    "    \"palette\": ['000000','ffffff'],\n",
    "}\n",
    "\n",
    "nightNoaaAlt = (ee.ImageCollection('NOAA/VIIRS/DNB/MONTHLY_V1/VCMCFG')\n",
    "             .filterDate(date_start, date_end)\n",
    "             .mosaic().clip(aoiEE)\n",
    "            )\n",
    "nightNoaaAlt = {\n",
    "    'min': 0.0, \n",
    "    'max': 10.0, \n",
    "    'bands': ['avg_rad'], \n",
    "    \"palette\": ['000000','ffffff'],\n",
    "}\n",
    "\n",
    "#nightNasa = basemap_to_tiles(basemaps.NASAGIBS.ViirsEarthAtNight2012, date_start)\n",
    "#nightNasa_vis = {\n",
    "#    \"min\": 0,\n",
    "#    \"max\": 60,\n",
    "#}\n",
    "\n",
    "popGHSL = (ee.ImageCollection(\"JRC/GHSL/P2016/POP_GPW_GLOBE_V1\")\n",
    "           .filterDate('2014-01-01', '2016-01-01')\n",
    "           .mosaic().clip(aoiEE)\n",
    "          ).select('population_count')\n",
    "popGHSL_vis = {\n",
    "  \"min\": 0.0,\n",
    "  \"max\": 20.0,\n",
    "  \"palette\": ['000000', 'ffffff'],\n",
    "}\n",
    "\n",
    "#osm = basemap_to_tiles(basemaps.OpenStreetMap.Mapnik, date_start)"
   ]
  },
  {
   "cell_type": "code",
   "execution_count": null,
   "id": "5d6d0aea-0756-452d-95bb-35bd6ac2eeb9",
   "metadata": {},
   "outputs": [],
   "source": [
    "features = []\n",
    "step = 1\n",
    "for x in range(4, 6, step):\n",
    "    for y in range(12, 14, step):\n",
    "        features.append(ee.Feature(ee.Geometry.Rectangle(x, y, x+step, y+step)))\n",
    "testFeatures = ee.FeatureCollection(features)"
   ]
  },
  {
   "cell_type": "code",
   "execution_count": null,
   "id": "c6016797-3b5d-4ef5-92b0-a9ed5c40af84",
   "metadata": {},
   "outputs": [],
   "source": [
    "def updateLayerFromSlider(layer, layerVis, name, mask, value):\n",
    "    m.addLayer(layer.updateMask(mask.gt(value)), layerVis, name + str(value))\n",
    "\n",
    "slider= ipywidgets.widgets.IntSlider(0, -15, 100)\n",
    "\n",
    "button = widgets.Button(description=\"Test slider!\")\n",
    "output = widgets.Output()\n",
    "\n",
    "\n",
    "def on_button_clicked(b):\n",
    "    with output:\n",
    "        updateLayerFromSlider(s2, s2_vis, 'sentinel-2 night radiance: ', nightNoaa.select('avg_rad'), slider.value)\n",
    "\n",
    "button.on_click(on_button_clicked)"
   ]
  },
  {
   "cell_type": "code",
   "execution_count": null,
   "id": "19dde4d8-a7f0-4751-8594-3044c11b3c9e",
   "metadata": {},
   "outputs": [],
   "source": [
    "m = geemap.Map(center=(0, 0), zoom=4)\n",
    "#m.fit_bounds([(aoi.yMin, aoi.xMin), (aoi.yMax, aoi.xMax)])\n",
    "m.add_control(ScaleControl(position=\"topright\"))\n",
    "m.add_control(LayersControl())\n",
    "\n",
    "\n",
    "m.addLayer(s2, s2_vis, 'sentinel-2')\n",
    "m.addLayer(l8, l8_vis, 'landsat-8')\n",
    "\n",
    "m.addLayer(nightNoaa, nightNoaa_vis, 'night Noaa')\n",
    "#m.addLayer(nightNoaaAlt, nightNoaaAlt_vis, 'night Noaa Alt')\n",
    "#m.add_layer(nightNasa)\n",
    "m.addLayer(popGHSL, popGHSL_vis, 'population GHSL')\n",
    "\n",
    "#m.add_layer(osm)\n",
    "#m.add_osm_from_bbox(13, 13.1, 5.0, 5.1, {'building': True}, 'osm', info_mode=None)\n",
    "\n",
    "m.addLayer(testFeatures.style(color='ffffff', width=0.5,fillColor='ffffff00'), {}, 'test')\n",
    "\n",
    "display(slider)\n",
    "display(button, output)"
   ]
  },
  {
   "cell_type": "markdown",
   "id": "a1b244a8-a21c-404a-b648-bbf4c81211ab",
   "metadata": {},
   "source": [
    "## Save"
   ]
  },
  {
   "cell_type": "code",
   "execution_count": null,
   "id": "ef15c990-34c2-4ca5-b731-c07d396d5579",
   "metadata": {},
   "outputs": [],
   "source": [
    "def saveImageFromGeeData(eeData, vis_params, folderName, fileName, aoi, zoom = 14):\n",
    "    offset = 100\n",
    "    step = 50\n",
    "    count = 0\n",
    "    \n",
    "    x_min = int(aoi.xMin*offset)\n",
    "    x_max = int(aoi.xMax*offset)\n",
    "    y_min = int(aoi.yMin*offset)\n",
    "    y_max = int(aoi.yMax*offset)\n",
    "\n",
    "    url = eeData.getMapId(vis_params)[\"tile_fetcher\"].url_format\n",
    "    for x in range(x_min, x_max, step):\n",
    "        for y in range(y_min, y_max, step):\n",
    "            count += 1\n",
    "            \n",
    "            east = x/offset\n",
    "            west = x_max/offset if (x+step > x_max) else (x+step)/offset\n",
    "            north = y/offset\n",
    "            south = y_max/offset if (y+step > y_max) else (y+step)/offset\n",
    "\n",
    "            if (y > y_max): y = y_max\n",
    "            print(count,'e:',east,'w:',west,'n:',north,'s:',south)\n",
    "            _, _ = contextily.bounds2raster(aoi.xMin,aoi.yMin,aoi.xMax,aoi.yMax,ll=True,path='img/'+folderName+'/'+fileName+'_'+str(count),source=url, zoom=zoom)\n",
    "            print('Done')\n",
    "\n",
    "#def saveImageFromProvidersSrc(src, fileName, aoi, zoom = 14):\n",
    "#    img, _ = contextily.bounds2raster(aoi.xMin,aoi.yMin,aoi.xMax,aoi.yMax,ll=True,path=fileName,source=src, zoom=zoom)\n",
    "#    return img"
   ]
  },
  {
   "cell_type": "code",
   "execution_count": null,
   "id": "68324e79-b95d-4031-a186-cc65f89dcbd1",
   "metadata": {},
   "outputs": [],
   "source": [
    "# Test !!\n",
    "\n",
    "offset = 100\n",
    "step = 50\n",
    "count = 0\n",
    "x_min = int(3.35*offset)\n",
    "x_max = int(4.7*offset)\n",
    "y_min = int(11.3*offset)\n",
    "y_max = int(12.5*offset)\n",
    "\n",
    "for x in range(x_min, x_max, step):\n",
    "    for y in range(y_min, y_max, step):\n",
    "        count += 1\n",
    "\n",
    "        east = x/offset\n",
    "        west = x_max/offset if (x+step > x_max) else (x+step)/offset\n",
    "        north = y/offset\n",
    "        south = y_max/offset if (y+step > y_max) else (y+step)/offset\n",
    "\n",
    "        print('Test'+'/'+'Sokoto'+' '+str(count),east,west,north,south)"
   ]
  },
  {
   "cell_type": "code",
   "execution_count": null,
   "id": "b8672ac1-5e1e-49dc-a6be-19b9a2b6a1de",
   "metadata": {},
   "outputs": [],
   "source": [
    "sentinelImg = saveImageFromGeeData(s2, s2_vis,\"sokoto_s2\", aoi, zoom=14)\n",
    "landsatImg = saveImageFromGeeData(l8, l8_vis,\"sokoto_l8\", aoi, zoom=13)\n",
    "\n",
    "noaaImg = saveImageFromGeeData(nightNoaa, nightNoaa_vis, \"sokoto_noaa\", aoi, zoom=8)\n",
    "\n",
    "# NASAGIBS limit the zoom level to 8 max.\n",
    "#blackMarbleImg = saveImageFromProvidersSrc(contextily.providers.NASAGIBS.ViirsEarthAtNight2012, \"sokoto_night.tif\", aoi, zoom=8)\n",
    "\n",
    "popImg = saveImageFromGeeData(popGHSL, popGHSL_vis,\"sokoto_ghsl\", aoi, zoom=10)\n",
    "#osmImg = saveImageFromProvidersSrc(contextily.providers.OpenStreetMap.Mapnik, \"sokoto_osm.tif\", aoi, zoom=10)\n"
   ]
  },
  {
   "cell_type": "code",
   "execution_count": null,
   "id": "e2eb56a0-2eed-4734-91a2-23d0a20e418e",
   "metadata": {},
   "outputs": [],
   "source": [
    "# FAILED # plt.axis([aoi.yMin, aoi.yMax,aoi.xMin, aoi.xMax])\n",
    "\n",
    "plt.title(\"Sentinel2\")\n",
    "with rasterio.open(\"sokoto_s2.tif\") as r: \n",
    "    axis = plot.show(r).axis()\n",
    "\n",
    "#plt.axis(axis)\n",
    "#plt.title(\"Landsat 8\")\n",
    "#with rasterio.open(\"sokoto_l8.tif\") as r: plot.show(r)\n",
    "\n",
    "#plt.axis(axis)\n",
    "#plt.title(\"VIIRS Nighttime\")\n",
    "#with rasterio.open(\"sokoto_noaa.tif\") as r: plot.show(r)\n",
    "\n",
    "#plt.axis(axis)\n",
    "#plt.title(\"NASA Nighttime\")\n",
    "#with rasterio.open(\"sokoto_night.tif\") as r: plot.show(r)\n",
    "\n",
    "#plt.axis(axis)\n",
    "#plt.title(\"Human settlement\")\n",
    "#with rasterio.open(\"sokoto_ghsl.tif\") as r: plot.show(r)\n",
    "\n",
    "#plt.axis(axis)\n",
    "#plt.title(\"OpenStreetMap\")\n",
    "#with rasterio.open(\"sokoto_osm.tif\") as r: plot.show(r)\n",
    "\n"
   ]
  }
 ],
 "metadata": {
  "kernelspec": {
   "display_name": "Python 3 (ipykernel)",
   "language": "python",
   "name": "python3"
  },
  "language_info": {
   "codemirror_mode": {
    "name": "ipython",
    "version": 3
   },
   "file_extension": ".py",
   "mimetype": "text/x-python",
   "name": "python",
   "nbconvert_exporter": "python",
   "pygments_lexer": "ipython3",
   "version": "3.9.12"
  }
 },
 "nbformat": 4,
 "nbformat_minor": 5
}
