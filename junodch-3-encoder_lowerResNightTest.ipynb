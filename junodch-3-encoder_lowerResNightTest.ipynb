{
 "cells": [
  {
   "cell_type": "code",
   "execution_count": null,
   "metadata": {},
   "outputs": [],
   "source": [
    "import junodch_utils_read_img as utils\n",
    "\n",
    "import matplotlib.pyplot as plt\n",
    "import numpy as np\n",
    "import pandas as pd\n",
    "import tensorflow as tf\n",
    "from tqdm.keras import TqdmCallback\n",
    "\n",
    "import keras\n",
    "from keras import layers, losses\n",
    "from keras.models import Model\n",
    "from shapely.geometry import box\n",
    "#import gdal\n",
    "\n",
    "import rasterio\n",
    "from rasterio import plot as rastPlt\n",
    "from rasterio.merge import merge as rasterMerge\n"
   ]
  },
  {
   "cell_type": "markdown",
   "metadata": {},
   "source": [
    "# Data preparation\n",
    "### Fetch data from file"
   ]
  },
  {
   "cell_type": "code",
   "execution_count": null,
   "metadata": {},
   "outputs": [],
   "source": [
    "folderName = \"img/Sokoto/\"\n",
    "satelliteFile = \"Sentinel-2.tif\"\n",
    "#nightFile = \"Night VIIRS_1.tif\"\n",
    "nightFile = \"lowres_night_1.tif\"\n",
    "\n",
    "# Filter the night tile not covering the day area.\n",
    "with rasterio.open(folderName + satelliteFile) as s:\n",
    "  sBox = box(*s.bounds).exterior.coords\n",
    "aoi = []\n",
    "for v in sBox:\n",
    "  aoi.append((v[0], v[1]))\n",
    "aoi.pop()\n",
    "\n",
    "train, test = utils.getTrainingAndTestPerimeter(folderName + nightFile, 200, area=aoi)\n",
    "\n",
    "print('TrainingTile:',len(train))\n",
    "print('TestTile:',len(test))\n",
    "\n",
    "with rasterio.open(folderName + satelliteFile) as s:\n",
    "  data, meta = utils.getEachImgFromCoord(s, train, True)"
   ]
  },
  {
   "cell_type": "markdown",
   "metadata": {},
   "source": [
    "### Visualize training tile"
   ]
  },
  {
   "cell_type": "code",
   "execution_count": null,
   "metadata": {},
   "outputs": [],
   "source": [
    "utils.displayTiles(data, meta)"
   ]
  },
  {
   "cell_type": "markdown",
   "metadata": {},
   "source": [
    "### Format data for autoencoder"
   ]
  },
  {
   "cell_type": "code",
   "execution_count": null,
   "metadata": {},
   "outputs": [],
   "source": [
    "print(data[0].shape)\n",
    "#print(meta[0])\n",
    "\n",
    "dataTrain_formated = utils.formatDataForAutoencoder(data, res=64)\n",
    "print(dataTrain_formated.shape)"
   ]
  },
  {
   "cell_type": "markdown",
   "metadata": {},
   "source": [
    "# Autoencoder"
   ]
  },
  {
   "cell_type": "code",
   "execution_count": null,
   "metadata": {},
   "outputs": [],
   "source": [
    "# Input encoder\n",
    "input_img = keras.Input(shape=(64,64,4))\n",
    "\n",
    "#optimizer = 'adam'\n",
    "optimizer = keras.optimizers.Adam(\n",
    "  learning_rate=0.001,\n",
    "  #learning_rate=0.002,\n",
    "  beta_1=0.9,\n",
    "  beta_2=0.999,\n",
    ")\n",
    "#lossFunction = keras.losses.MeanAbsoluteError() # L1\n",
    "lossFunction = keras.losses.MeanSquaredError() # l2\n",
    "#lossFunction = tf.keras.losses.KLDivergence() # give blanc result ?\n",
    "activationFunction = lambda x: tf.keras.activations.relu(x, max_value=255)\n",
    "earlyStop = tf.keras.callbacks.EarlyStopping(monitor='loss', min_delta=5, patience=5)\n",
    "\n",
    "# (5,5) good ?\n",
    "# 20,8,8,8,8,8\n",
    "cnn = layers.Conv2D(20,(5,5), padding='same', activation=activationFunction)(input_img)\n",
    "cnn = layers.MaxPool2D((2,2), padding='same')(cnn)\n",
    "cnn = layers.Conv2D(8,(3,3), padding='same', activation=activationFunction)(cnn)\n",
    "cnn = layers.MaxPool2D((2,2), padding='same')(cnn)\n",
    "cnn = layers.Conv2D(8,(3,3), padding='same', activation=activationFunction)(cnn)\n",
    "encoded = layers.MaxPool2D((2,2), padding='same')(cnn)\n",
    "print('Encoder shape:',encoded.get_shape())\n",
    "encoder = keras.Model(input_img, encoded)\n",
    "\n",
    "cnn = layers.Conv2D(8,(3,3), padding='same', activation=activationFunction)(encoded)\n",
    "cnn = layers.UpSampling2D((2,2))(cnn)\n",
    "cnn = layers.Conv2D(8,(3,3), padding='same', activation=activationFunction)(cnn)\n",
    "cnn = layers.UpSampling2D((2,2))(cnn)\n",
    "cnn = layers.Conv2D(8,(3,3), padding='same', activation=activationFunction)(cnn)\n",
    "cnn = layers.UpSampling2D((2,2))(cnn)\n",
    "decoder = layers.Conv2D(4, (3,3), padding='same', activation=activationFunction)(cnn)\n",
    "\n",
    "autoencoder = keras.Model(input_img, decoder)\n",
    "autoencoder.compile(optimizer=optimizer, loss=lossFunction)\n",
    "\n",
    "result = autoencoder.fit(dataTrain_formated[0:600], dataTrain_formated[0:600],\n",
    "                          epochs=100,\n",
    "                          #batch_size=100,\n",
    "                          #shuffle=True,\n",
    "                          verbose=0,\n",
    "                          #validation_data=(dataTrain_formated[0:2000], dataTrain_formated[0:2000]),\n",
    "                          callbacks=[\n",
    "                            TqdmCallback(verbose=1),\n",
    "                            earlyStop,\n",
    "                          ],\n",
    "                        )\n"
   ]
  },
  {
   "cell_type": "code",
   "execution_count": null,
   "metadata": {},
   "outputs": [],
   "source": [
    "plt.plot(result.history['loss'][10:], label='Training')\n",
    "#autoencoder.summary()\n",
    "#plt.plot(result.history['val_loss'], label='Testing')"
   ]
  },
  {
   "cell_type": "code",
   "execution_count": null,
   "metadata": {},
   "outputs": [],
   "source": [
    "dataInput = dataTrain_formated[len(dataTrain_formated)-100:]\n",
    "\n",
    "utils.displayAutoEncoderResults(dataInput, None, autoencoder, lossFunction)"
   ]
  },
  {
   "cell_type": "code",
   "execution_count": null,
   "metadata": {},
   "outputs": [],
   "source": [
    "with rasterio.open(folderName + satelliteFile) as s:\n",
    "  validation, metaValid = utils.getEachImgFromCoord(s, test[0:1] + test[1104:1123]+ test[2944:2964]+ test[4000:4020]+ test[5000:5020]+ test[10000:10020], True)\n",
    "\n",
    "utils.displayAutoEncoderResults(utils.formatDataForAutoencoder(validation,res=64), None, autoencoder, lossFunction)"
   ]
  },
  {
   "cell_type": "code",
   "execution_count": null,
   "metadata": {},
   "outputs": [],
   "source": [
    "autoencoder.save('model/autoencoder_64_V2')"
   ]
  },
  {
   "cell_type": "code",
   "execution_count": null,
   "metadata": {},
   "outputs": [],
   "source": [
    "# Display area test\n",
    "with rasterio.open(folderName + satelliteFile) as s:\n",
    "  validationTest, metaValidTest = utils.getEachImgFromCoord(s, test[0:10] + test[368:378] + test[736:746] + test[1104:1114] + test[1472:1482], True)\n",
    "\n",
    "utils.displayTiles(validationTest, metaValidTest)"
   ]
  },
  {
   "cell_type": "code",
   "execution_count": null,
   "metadata": {},
   "outputs": [],
   "source": []
  }
 ],
 "metadata": {
  "kernelspec": {
   "display_name": "Python 3 (ipykernel)",
   "language": "python",
   "name": "python3"
  },
  "language_info": {
   "codemirror_mode": {
    "name": "ipython",
    "version": 3
   },
   "file_extension": ".py",
   "mimetype": "text/x-python",
   "name": "python",
   "nbconvert_exporter": "python",
   "pygments_lexer": "ipython3",
   "version": "3.9.12"
  },
  "vscode": {
   "interpreter": {
    "hash": "0877fde3bc78a9e7113f97fea145bff0c5aa8882703ee053f927d63ca7148c47"
   }
  }
 },
 "nbformat": 4,
 "nbformat_minor": 4
}
