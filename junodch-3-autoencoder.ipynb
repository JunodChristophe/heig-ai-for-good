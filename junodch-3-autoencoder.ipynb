{
 "cells": [
  {
   "cell_type": "code",
   "execution_count": null,
   "metadata": {},
   "outputs": [],
   "source": [
    "import junodch_utils_read_img as utils\n",
    "\n",
    "import matplotlib.pyplot as matPlt\n",
    "import numpy as np\n",
    "import tensorflow as tf\n",
    "from tqdm.keras import TqdmCallback\n",
    "\n",
    "import keras\n",
    "from keras import layers\n",
    "import rasterio"
   ]
  },
  {
   "cell_type": "markdown",
   "metadata": {},
   "source": [
    "# Data preparation\n",
    "### Fetch data from file"
   ]
  },
  {
   "cell_type": "code",
   "execution_count": null,
   "metadata": {},
   "outputs": [],
   "source": [
    "folderName = \"img/Sokoto/\"\n",
    "pathSatellite = folderName + \"Sentinel-2.tif\"\n",
    "pathNight = folderName + \"Night VIIRS_1.tif\"\n",
    "#pathNight = folderName + \"lowres_night_1.tif\"\n",
    "pathValidation = folderName + \"Population GHSL_1.tif\"\n",
    "\n",
    "aoi = utils.getImgBorder(pathSatellite)\n",
    "\n",
    "# Fetch coords\n",
    "dataCoords, dataRadiance = utils.getTilesCoordsPerimeter(pathNight, validThreshold=1, area=aoi)\n",
    "\n",
    "trainMask = dataRadiance>25\n",
    "lightCoords = dataCoords[trainMask]\n",
    "\n",
    "print('Tiles:',dataCoords.shape[0])\n",
    "print('Light Tile:',lightCoords.shape[0])\n"
   ]
  },
  {
   "cell_type": "code",
   "execution_count": null,
   "metadata": {},
   "outputs": [],
   "source": [
    "# Fetch images\n",
    "with rasterio.open(pathSatellite) as f:\n",
    "  trainData, _ = utils.getEachImgFromCoord(f, dataCoords[trainMask], True)\n",
    "trainData = utils.formatData(trainData, res=32, toFloat=True)\n",
    "print(trainData.shape)"
   ]
  },
  {
   "cell_type": "markdown",
   "metadata": {},
   "source": [
    "# Autoencoder"
   ]
  },
  {
   "cell_type": "code",
   "execution_count": null,
   "metadata": {},
   "outputs": [],
   "source": [
    "# Input encoder\n",
    "input_shape = trainData.shape[1:]\n",
    "\n",
    "#optimizer = 'adam'\n",
    "optimizer = keras.optimizers.Adam(\n",
    "  learning_rate=0.001,\n",
    "  beta_1=0.9,\n",
    "  beta_2=0.999,\n",
    ")\n",
    "\n",
    "#lossFunction = keras.losses.MeanAbsoluteError() # L1\n",
    "lossFunction = keras.losses.MeanSquaredError() # l2\n",
    "#lossFunction = tf.keras.losses.KLDivergence()\n",
    "\n",
    "activationFunction = lambda x: tf.keras.activations.relu(x, max_value=255)\n",
    "earlyStop = tf.keras.callbacks.EarlyStopping(monitor='loss', min_delta=0, patience=3)\n",
    "\n",
    "autoencoder = keras.Sequential([\n",
    "  layers.Conv2D(16,(3,3), 2, padding='same', activation='relu', input_shape=input_shape),\n",
    "  layers.Conv2D(16,(3,3), 2, padding='same', activation='relu'),\n",
    "  layers.Conv2D(16,(3,3), 2, padding='same', activation='relu'),\n",
    "\n",
    "  layers.Flatten(name='encoder'),\n",
    "  layers.Reshape(target_shape=(4,4,16)),\n",
    "\n",
    "  #layers.UpSampling2D((2,2)),\n",
    "  layers.Conv2DTranspose(16,(3,3), 2, padding='same', activation='relu'),\n",
    "  #layers.UpSampling2D((2,2)),\n",
    "  layers.Conv2DTranspose(16,(3,3), 2, padding='same', activation='relu'),\n",
    "  #layers.UpSampling2D((2,2)),\n",
    "\n",
    "  layers.Conv2DTranspose(3, (3,3), 2, padding='same', activation='sigmoid', name='decoder'),\n",
    "])\n",
    "\n",
    "autoencoder.compile(optimizer=optimizer, loss=lossFunction)\n",
    "\n",
    "print('Encoder shape:',autoencoder.get_layer('encoder').output_shape)\n",
    "\n",
    "autoencoder.get_output_shape_at\n",
    "\n",
    "result = autoencoder.fit(trainData, trainData,\n",
    "                          epochs=50,\n",
    "                          batch_size=2,\n",
    "                          shuffle=True,\n",
    "                          verbose=0,\n",
    "                          callbacks=[\n",
    "                            TqdmCallback(verbose=1), # Concise display progression\n",
    "                            earlyStop,\n",
    "                          ],\n",
    "                        )\n"
   ]
  },
  {
   "cell_type": "code",
   "execution_count": null,
   "metadata": {},
   "outputs": [],
   "source": [
    "matPlt.plot(result.history['loss'][:], label='Training')\n",
    "#matPlt.plot(result.history['val_loss'], label='Testing')\n",
    "autoencoder.summary()"
   ]
  },
  {
   "cell_type": "code",
   "execution_count": null,
   "metadata": {},
   "outputs": [],
   "source": [
    "print(\"Test display some tiles\")\n",
    "\n",
    "indexesTest = [*np.argwhere(trainMask)[-20:].flatten(), *range(0,1), *range(1104,1108), *range(1118,1123), *range(4005,4010), *range(10005,10010)]\n",
    "\n",
    "with rasterio.open(pathSatellite) as f:\n",
    "  dataTest, _ = utils.getEachImgFromCoord(f, dataCoords[indexesTest], True)\n",
    "dataTest = utils.formatData(dataTest, res=32, toFloat=True)\n",
    "\n",
    "utils.displayAutoEncoderResults(autoencoder, dataTest, showDetail=0, precision=5)"
   ]
  },
  {
   "cell_type": "code",
   "execution_count": null,
   "metadata": {},
   "outputs": [],
   "source": [
    "autoencoder.save('model/autoencoder_32x32_encoder_256')"
   ]
  },
  {
   "cell_type": "code",
   "execution_count": null,
   "metadata": {},
   "outputs": [],
   "source": []
  }
 ],
 "metadata": {
  "kernelspec": {
   "display_name": "Python 3 (ipykernel)",
   "language": "python",
   "name": "python3"
  },
  "language_info": {
   "codemirror_mode": {
    "name": "ipython",
    "version": 3
   },
   "file_extension": ".py",
   "mimetype": "text/x-python",
   "name": "python",
   "nbconvert_exporter": "python",
   "pygments_lexer": "ipython3",
   "version": "3.9.12"
  },
  "vscode": {
   "interpreter": {
    "hash": "0877fde3bc78a9e7113f97fea145bff0c5aa8882703ee053f927d63ca7148c47"
   }
  }
 },
 "nbformat": 4,
 "nbformat_minor": 4
}
