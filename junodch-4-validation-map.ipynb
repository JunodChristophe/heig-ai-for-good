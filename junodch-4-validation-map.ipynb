{
 "cells": [
  {
   "cell_type": "markdown",
   "id": "601a4382",
   "metadata": {},
   "source": [
    "# Display result\n",
    "Load an image and displays it on the map to check directly the results."
   ]
  },
  {
   "cell_type": "code",
   "execution_count": null,
   "id": "b2cd6d2d",
   "metadata": {},
   "outputs": [],
   "source": [
    "from localtileserver import get_leaflet_tile_layer, TileClient\n",
    "from geemap import *\n",
    "\n",
    "from ipyleaflet import *"
   ]
  },
  {
   "cell_type": "code",
   "execution_count": null,
   "id": "73d7e595",
   "metadata": {},
   "outputs": [],
   "source": [
    "#sentinelPath = 'img/Sokoto/Sentinel-2.tif'\n",
    "resultPath = 'img/Ethiopie/cnn_64px_conv16_conv16_conv16_dense128_Ethiopie.tif'\n",
    "\n",
    "# First, create a tile server from local raster file\n",
    "#resultImg = TileClient(resultPath)\n",
    "#sentinelImg = TileClient(sentinelPath)\n",
    "\n",
    "m = geemap.Map(center=(0, 0), zoom=8)\n",
    "\n",
    "resultImg = os.path.join(os.getcwd(), resultPath)\n",
    "#sentinelImg = os.path.join(os.getcwd(), sentinelPath)\n",
    "m.add_local_tile(resultImg, bands=[3,2,1],layer_name='test')\n",
    "#m.add_local_tile(sentinelImg, bands=[4,3,2],layer_name='sentinel')\n",
    "\n",
    "#m.add_layer(get_leaflet_tile_layer(resultImg))\n",
    "#m.add_layer(get_leaflet_tile_layer(sentinelImg))\n",
    "\n",
    "display(m)"
   ]
  },
  {
   "cell_type": "code",
   "execution_count": null,
   "id": "dd6ba494-d2fe-4c03-bc7c-3a7539452903",
   "metadata": {},
   "outputs": [],
   "source": []
  }
 ],
 "metadata": {
  "kernelspec": {
   "display_name": "Python 3 (ipykernel)",
   "language": "python",
   "name": "python3"
  },
  "language_info": {
   "codemirror_mode": {
    "name": "ipython",
    "version": 3
   },
   "file_extension": ".py",
   "mimetype": "text/x-python",
   "name": "python",
   "nbconvert_exporter": "python",
   "pygments_lexer": "ipython3",
   "version": "3.9.12"
  },
  "vscode": {
   "interpreter": {
    "hash": "0877fde3bc78a9e7113f97fea145bff0c5aa8882703ee053f927d63ca7148c47"
   }
  }
 },
 "nbformat": 4,
 "nbformat_minor": 5
}
