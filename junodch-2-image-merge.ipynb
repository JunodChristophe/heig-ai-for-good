{
 "cells": [
  {
   "cell_type": "markdown",
   "id": "465499c3",
   "metadata": {},
   "source": [
    "# Image Merge\n",
    "Use this notebook to reassemble into one, an images that have been broken up in multiple files during the data fetching."
   ]
  },
  {
   "cell_type": "code",
   "execution_count": null,
   "id": "d72b609b-305e-4b98-a24d-e15fa6aaea91",
   "metadata": {},
   "outputs": [],
   "source": [
    "from ipyleaflet import *\n",
    "\n",
    "import junodch_utils_read_img as utils\n",
    "\n",
    "import rasterio\n",
    "from rasterio import plot as rastPlt"
   ]
  },
  {
   "cell_type": "markdown",
   "id": "6f718934-7cb9-465c-aea5-842e06471069",
   "metadata": {},
   "source": [
    "# Combine images"
   ]
  },
  {
   "cell_type": "code",
   "execution_count": null,
   "id": "e997b92d-4509-4f39-9800-a1a61c0b9449",
   "metadata": {},
   "outputs": [],
   "source": [
    "def combineImages(path, nImg):\n",
    "    listRaster = []\n",
    "    for i in range(1, nImg + 1):\n",
    "        listRaster.append(rasterio.open(path + '_' + str(i) + '.tif'))\n",
    "    output_meta = rasterio.open(path + '_1.tif').meta.copy()\n",
    "\n",
    "    mosaic, meta = utils.getMosaicFromFiles(listRaster, output_meta)\n",
    "    \n",
    "    return mosaic, meta"
   ]
  },
  {
   "cell_type": "code",
   "execution_count": null,
   "id": "4c1c22d7",
   "metadata": {},
   "outputs": [],
   "source": [
    "folderName = \"img/Yemen/\"\n",
    "filesCommonName = folderName + \"Sentinel-2\"\n",
    "\n",
    "mosaic, meta = combineImages(filesCommonName, 64)\n",
    "rastPlt.show(mosaic)\n",
    "\n",
    "with rasterio.open(filesCommonName + '.tif', 'w', **meta) as r:\n",
    "  r.write(mosaic)"
   ]
  },
  {
   "cell_type": "code",
   "execution_count": null,
   "id": "dd6ba494-d2fe-4c03-bc7c-3a7539452903",
   "metadata": {},
   "outputs": [],
   "source": []
  }
 ],
 "metadata": {
  "kernelspec": {
   "display_name": "Python 3 (ipykernel)",
   "language": "python",
   "name": "python3"
  },
  "language_info": {
   "codemirror_mode": {
    "name": "ipython",
    "version": 3
   },
   "file_extension": ".py",
   "mimetype": "text/x-python",
   "name": "python",
   "nbconvert_exporter": "python",
   "pygments_lexer": "ipython3",
   "version": "3.9.12"
  },
  "vscode": {
   "interpreter": {
    "hash": "0877fde3bc78a9e7113f97fea145bff0c5aa8882703ee053f927d63ca7148c47"
   }
  }
 },
 "nbformat": 4,
 "nbformat_minor": 5
}
