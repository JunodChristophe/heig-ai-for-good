{
 "cells": [
  {
   "cell_type": "markdown",
   "metadata": {},
   "source": [
    "# Experimentation with UMAP\n",
    "Technique for dimensional reduction.  \n",
    "Here we try to represent each sample on a dot on a 2d plan and see the pattern."
   ]
  },
  {
   "cell_type": "code",
   "execution_count": null,
   "metadata": {},
   "outputs": [],
   "source": [
    "import junodch_utils_read_img as utils\n",
    "\n",
    "import matplotlib.pyplot as plt\n",
    "import numpy as np\n",
    "import tensorflow as tf\n",
    "from tqdm.keras import TqdmCallback\n",
    "\n",
    "import rasterio\n",
    "import keras\n",
    "from keras import layers\n",
    "\n",
    "import umap\n",
    "from umap.parametric_umap import ParametricUMAP"
   ]
  },
  {
   "cell_type": "markdown",
   "metadata": {},
   "source": [
    "# Data preparation\n",
    "### Fetch data from file"
   ]
  },
  {
   "cell_type": "code",
   "execution_count": null,
   "metadata": {},
   "outputs": [],
   "source": [
    "folderName = \"img/Sokoto/\"\n",
    "pathSatellite = folderName + \"Sentinel-2.tif\"\n",
    "pathNight = folderName + \"Night_VIIRS.tif\"\n",
    "pathValidation = folderName + \"Population_GHSL.tif\"\n",
    "\n",
    "aoi = utils.getImgBorder(pathSatellite)\n",
    "\n",
    "# Fetch coords\n",
    "dataCoords, dataRadiance = utils.getTilesCoordsPerimeter(pathNight, area=aoi)\n",
    "print('Tiles:',dataCoords.shape[0])"
   ]
  },
  {
   "cell_type": "code",
   "execution_count": null,
   "metadata": {},
   "outputs": [],
   "source": [
    "lightMask = (dataRadiance>0)\n",
    "lightCoords = dataCoords[lightMask]\n",
    "darkMask = (dataRadiance==0)\n",
    "\n",
    "idxDarkData = np.random.choice(np.arange(dataCoords.shape[0])[darkMask], len(lightCoords), replace=False)\n",
    "darkCoords = dataCoords[idxDarkData]\n",
    "\n",
    "trainCoords = np.concatenate((lightCoords, darkCoords))\n",
    "\n",
    "with rasterio.open(pathSatellite) as f:\n",
    "  trainData, _ = utils.coordsToImgsFormated(f, trainCoords, res=64)\n",
    "print(trainData.shape)\n",
    "\n",
    "print('Light Tile:',len(lightCoords))\n",
    "print('dark Tile:',len(darkCoords))\n",
    "print('Total train',trainData.shape)\n",
    "\n",
    "train = trainData\n",
    "validation = np.concatenate((dataRadiance[lightMask], dataRadiance[idxDarkData]))"
   ]
  },
  {
   "cell_type": "code",
   "execution_count": null,
   "metadata": {},
   "outputs": [],
   "source": [
    "print(train.shape)\n",
    "trainDataFormated = train.reshape(train.shape[0], -1)\n",
    "print('shape',trainDataFormated.shape)"
   ]
  },
  {
   "cell_type": "code",
   "execution_count": null,
   "metadata": {},
   "outputs": [],
   "source": [
    "def displayResultUMAP(embedding):\n",
    "  fig, ax2 = plt.subplots( figsize=(5, 4))\n",
    "  sc = ax2.scatter(\n",
    "      embedding[:, 0],\n",
    "      embedding[:, 1],\n",
    "      c= validation,\n",
    "      cmap='rainbow',\n",
    "      s=5,\n",
    "      alpha=0.3,\n",
    "      rasterized=True,\n",
    "  )\n",
    "  ax2.axis('equal')\n",
    "  plt.colorbar(sc, ax=ax2)"
   ]
  },
  {
   "cell_type": "markdown",
   "metadata": {},
   "source": [
    "# UMAP\n",
    "First experiment with standard umap."
   ]
  },
  {
   "cell_type": "code",
   "execution_count": null,
   "metadata": {},
   "outputs": [],
   "source": [
    "embedding = umap.UMAP(random_state=50).fit_transform(trainDataFormated)\n",
    "displayResultUMAP(embedding)"
   ]
  },
  {
   "cell_type": "code",
   "execution_count": null,
   "metadata": {},
   "outputs": [],
   "source": [
    "displayResultUMAP(embedding)"
   ]
  },
  {
   "cell_type": "markdown",
   "metadata": {},
   "source": [
    "Attempt with parametricUMAP"
   ]
  },
  {
   "cell_type": "code",
   "execution_count": null,
   "metadata": {},
   "outputs": [],
   "source": [
    "input_shape=train.shape[1:]\n",
    "print(input_shape)\n",
    "\n",
    "encoder = keras.Sequential([\n",
    "  layers.Conv2D(12,(3,3), 2, padding='same', activation='relu', input_shape=input_shape),\n",
    "  layers.Conv2D(12,(3,3), 2, padding='same', activation='relu'),\n",
    "  layers.Conv2D(12,(3,3), 2, padding='same', activation='relu'),\n",
    "\n",
    "  layers.Flatten(),\n",
    "  layers.Dense(units=2, name='encoder'),\n",
    "])\n",
    "\n",
    "decoder = keras.Sequential([\n",
    "  layers.Dense(np.prod((8,8,12)), activation='relu', input_shape=(2,)),\n",
    "  layers.Reshape(target_shape=(8,8,12)),\n",
    "  layers.Conv2DTranspose(12,(3,3), 2, padding='same', activation='relu'),\n",
    "  layers.Conv2DTranspose(12,(3,3), 2, padding='same', activation='relu'),\n",
    "  layers.Conv2DTranspose(3, (3,3), 2, padding='same', activation='sigmoid'),\n",
    "])\n",
    "\n",
    "lossFunction = keras.losses.MeanSquaredError() # l2\n",
    "\n",
    "embedder = ParametricUMAP(\n",
    "  encoder=encoder,\n",
    "  decoder=decoder,\n",
    "  autoencoder_loss=True,\n",
    "  parametric_reconstruction_loss_fcn=lossFunction,\n",
    "  dims=input_shape,\n",
    "  parametric_reconstruction=True,\n",
    "  parametric_embedding=False,\n",
    "  #n_training_epochs = 1,\n",
    "  loss_report_frequency=20,\n",
    "  keras_fit_kwargs={\n",
    "    \"callbacks\": [TqdmCallback(verbose=1)],\n",
    "    \"verbose\": 0,\n",
    "  },\n",
    "  verbose=False,\n",
    ")\n",
    "\n",
    "embedding = embedder.fit_transform(trainDataFormated)\n",
    "\n",
    "fig, ax = plt.subplots()\n",
    "ax.plot(embedder._history['loss'])\n",
    "ax.set_ylabel('Cross Entropy')\n",
    "ax.set_xlabel('Epoch')"
   ]
  },
  {
   "cell_type": "code",
   "execution_count": null,
   "metadata": {},
   "outputs": [],
   "source": [
    "displayResultUMAP(embedding)"
   ]
  },
  {
   "cell_type": "code",
   "execution_count": null,
   "metadata": {},
   "outputs": [],
   "source": [
    "embedding = encoder.predict(train)\n",
    "displayResultUMAP(embedding)"
   ]
  },
  {
   "cell_type": "code",
   "execution_count": null,
   "metadata": {},
   "outputs": [],
   "source": [
    "def displayAutoencoderUmapResults(autoencoder, dataInput, precision=0, isEmbedded=True):\n",
    "  MAX_ON_ROW = 20\n",
    "  total = dataInput.shape[0]\n",
    "  nRow = (dataInput.shape[0] // MAX_ON_ROW) + 1\n",
    "  nCol = MAX_ON_ROW if total > MAX_ON_ROW else total\n",
    "\n",
    "  # Display original\n",
    "  plt.figure(figsize=(30,nRow*2))\n",
    "  for i in range(0, total):\n",
    "    ax = plt.subplot(nRow, nCol, 1+i)\n",
    "    plt.imshow(dataInput[i])\n",
    "    ax.get_xaxis().set_visible(False)\n",
    "    ax.get_yaxis().set_visible(False)\n",
    "  print(\"Original data:\",dataInput.shape)\n",
    "  plt.show()\n",
    "\n",
    "  # Display reconstruction\n",
    "  if isEmbedded:\n",
    "    decoded_imgs = autoencoder.inverse_transform(autoencoder.transform(dataInput))\n",
    "  else:\n",
    "    test = []\n",
    "    for d in dataInput:\n",
    "      test.append(tf.reshape(d, [-1]))\n",
    "    decoded_imgs = autoencoder.inverse_transform(autoencoder.transform(test))\n",
    "  plt.figure(figsize=(30,nRow*2))\n",
    "  print(\"Output data:\",decoded_imgs.shape)\n",
    "  for i in range(0, decoded_imgs.shape[0]):\n",
    "    ax = plt.subplot(nRow, nCol, 1+i)\n",
    "    if isEmbedded:\n",
    "      decoded_img = decoded_imgs[i]\n",
    "    else:\n",
    "      decoded_img = tf.reshape(decoded_imgs[i], [64,64,3])\n",
    "    plt.imshow(decoded_img)\n",
    "    score = lossFunction(dataInput[i], decoded_img)\n",
    "    plt.title(np.round(score,precision))\n",
    "    ax.get_xaxis().set_visible(False)\n",
    "    ax.get_yaxis().set_visible(False)\n",
    "  plt.show()"
   ]
  },
  {
   "cell_type": "code",
   "execution_count": null,
   "metadata": {},
   "outputs": [],
   "source": [
    "displayAutoencoderUmapResults(embedder, trainData[::100], precision=5, isEmbedded=False)"
   ]
  },
  {
   "cell_type": "code",
   "execution_count": null,
   "metadata": {},
   "outputs": [],
   "source": []
  }
 ],
 "metadata": {
  "kernelspec": {
   "display_name": "Python 3 (ipykernel)",
   "language": "python",
   "name": "python3"
  },
  "language_info": {
   "codemirror_mode": {
    "name": "ipython",
    "version": 3
   },
   "file_extension": ".py",
   "mimetype": "text/x-python",
   "name": "python",
   "nbconvert_exporter": "python",
   "pygments_lexer": "ipython3",
   "version": "3.9.12"
  },
  "vscode": {
   "interpreter": {
    "hash": "0877fde3bc78a9e7113f97fea145bff0c5aa8882703ee053f927d63ca7148c47"
   }
  }
 },
 "nbformat": 4,
 "nbformat_minor": 4
}
