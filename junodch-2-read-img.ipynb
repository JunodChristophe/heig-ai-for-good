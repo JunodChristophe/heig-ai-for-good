{
 "cells": [
  {
   "cell_type": "code",
   "execution_count": null,
   "id": "d72b609b-305e-4b98-a24d-e15fa6aaea91",
   "metadata": {},
   "outputs": [],
   "source": [
    "from ipyleaflet import *\n",
    "import ipywidgets\n",
    "from ipywidgets.embed import embed_minimal_html\n",
    "from ipywebrtc import WidgetStream, ImageRecorder\n",
    "\n",
    "import json\n",
    "import numpy as np\n",
    "import matplotlib.pyplot as matPlt\n",
    "#import gdal\n",
    "\n",
    "import rasterio\n",
    "from rasterio import plot as rastPlt\n",
    "from rasterio._base import gdal_version\n",
    "from rasterio.merge import merge as rasterMerge\n",
    "from rasterio.mask import mask as rasterMask\n",
    "from rasterio.io import MemoryFile\n",
    "from rasterio.crs import CRS\n",
    "from shapely.geometry import Polygon\n",
    "import contextily\n",
    "\n",
    "import ee\n",
    "from geemap import *"
   ]
  },
  {
   "cell_type": "code",
   "execution_count": null,
   "id": "bbc74487-c64e-43ec-a0f6-4ecb28fe9e1b",
   "metadata": {},
   "outputs": [],
   "source": [
    "# To run once for setting up earth engine\n",
    "#ee.Authenticate()"
   ]
  },
  {
   "cell_type": "code",
   "execution_count": null,
   "id": "bd8e7595-526d-4f7c-8048-23d74cf688a2",
   "metadata": {},
   "outputs": [],
   "source": [
    "ee.Initialize()"
   ]
  },
  {
   "cell_type": "code",
   "execution_count": null,
   "id": "3bc97d14-1204-43ac-a4d9-43f9cac9ba6e",
   "metadata": {},
   "outputs": [],
   "source": [
    "folderName = \"img/Test2/\"\n",
    "fig, axs = matPlt.subplots(1,4,figsize=(15,15))\n",
    "\n",
    "axs[0].set_title(\"Sentinel-2\")\n",
    "with rasterio.open(folderName + \"Sentinel-2_1.tif\") as r:\n",
    "    rastPlt.show(r, ax=axs[0])\n",
    "\n",
    "axs[1].set_xlim(axs[0].get_xlim())\n",
    "axs[1].set_ylim(axs[0].get_ylim())\n",
    "axs[2].set_xlim(axs[0].get_xlim())\n",
    "axs[2].set_ylim(axs[0].get_ylim())\n",
    "axs[3].set_xlim(axs[0].get_xlim())\n",
    "axs[3].set_ylim(axs[0].get_ylim())\n",
    "\n",
    "axs[1].set_title(\"Landsat-8\")\n",
    "with rasterio.open(folderName + \"Landsat-8_1.tif\") as r: \n",
    "    rastPlt.show(r, ax=axs[1])\n",
    "\n",
    "axs[2].set_title(\"VIIRS Nighttime\")\n",
    "with rasterio.open(folderName + \"Night VIIRS_1.tif\") as r:\n",
    "    rastPlt.show(r, ax=axs[2])\n",
    "\n",
    "axs[3].set_title(\"Human settlement\")\n",
    "with rasterio.open(folderName + \"Population GHSL_1.tif\") as r:\n",
    "    rastPlt.show(r, ax=axs[3])\n"
   ]
  },
  {
   "cell_type": "code",
   "execution_count": null,
   "id": "5f91de13",
   "metadata": {},
   "outputs": [],
   "source": [
    "def getMosaicFromFiles(fileRaster,meta):\n",
    "  mosaic, output = rasterMerge(fileRaster)\n",
    "  meta.update({\n",
    "      \"driver\": \"GTiff\",\n",
    "      \"height\": mosaic.shape[1],\n",
    "      \"width\": mosaic.shape[2],\n",
    "      \"transform\": output,\n",
    "  })\n",
    "  return mosaic, meta\n",
    "\n",
    "def getCoordForPixel(mask, transform):\n",
    "  dataX, dataY = np.where(mask)\n",
    "  data = np.c_[dataX, dataY]\n",
    "  sampleData = []\n",
    "  for x, y in data:\n",
    "    p = []\n",
    "    for offset in ['ul','ur','lr','ll']:\n",
    "      p.append(rasterio.transform.xy(transform, x, y, offset=offset))\n",
    "    sampleData.append(p)\n",
    "  return sampleData\n",
    "\n",
    "def getImgFromCoord(raster, areas, crop=True):\n",
    "  pol = []\n",
    "  for a in areas:\n",
    "    pol.append(Polygon(a))\n",
    "  tile, transform = rasterMask(raster, pol, crop=crop)\n",
    "  return tile, transform\n",
    "\n",
    "def getTrainingAndTestPerimeter(path, threashold):\n",
    "  with rasterio.open(path) as file:\n",
    "    night = file.read(1)\n",
    "    threashold = 200\n",
    "    train = getCoordForPixel(night > threashold, file.transform)\n",
    "    test = getCoordForPixel((0 < night) & (night <= threashold), file.transform)\n",
    "  return train, test"
   ]
  },
  {
   "cell_type": "code",
   "execution_count": null,
   "id": "07ead308-f72f-4044-9e00-0a1f5741e31e",
   "metadata": {},
   "outputs": [],
   "source": [
    "folderName = \"img/Test2/\"\n",
    "fig, axs = matPlt.subplots(1,2,figsize=(10,10))\n",
    "\n",
    "train, test = getTrainingAndTestPerimeter(folderName + \"Night VIIRS_1.tif\", 200)\n",
    "\n",
    "with rasterio.open(folderName + \"Sentinel-2_1.tif\") as s2:\n",
    "  s2Train, transformTrain = getImgFromCoord(s2, train, False)\n",
    "  s2Test, transformTest = getImgFromCoord(s2, test, False)\n",
    "\n",
    "  rastPlt.show(s2Train, transform=transformTrain, ax=axs[0])\n",
    "  rastPlt.show(s2Test, transform=transformTest, ax=axs[1])"
   ]
  },
  {
   "cell_type": "markdown",
   "id": "6f718934-7cb9-465c-aea5-842e06471069",
   "metadata": {},
   "source": [
    "# Combine images"
   ]
  },
  {
   "cell_type": "code",
   "execution_count": null,
   "id": "e997b92d-4509-4f39-9800-a1a61c0b9449",
   "metadata": {},
   "outputs": [],
   "source": [
    "listRaster = []\n",
    "for i in range(1, 65):\n",
    "    listRaster.append(rasterio.open('img/Sokoto/Sentinel-2_' + str(i) + '.tif'))\n",
    "    \n",
    "mosaic, output = rasterMerge(listRaster)\n",
    "output_meta = rasterio.open('img/Sokoto/Sentinel-2_1.tif').meta.copy()\n",
    "output_meta.update({\n",
    "    \"driver\": \"GTiff\",\n",
    "    \"height\": mosaic.shape[1],\n",
    "    \"width\": mosaic.shape[2],\n",
    "    \"transform\": output,\n",
    "})\n",
    "#with rasterio.open('img/Sokoto/Sentinel-2.tif', 'w', **output_meta) as r:\n",
    "#    r.write(mosaic)"
   ]
  },
  {
   "cell_type": "code",
   "execution_count": null,
   "id": "635e6659-88b2-4f7a-99eb-774de3e529c1",
   "metadata": {},
   "outputs": [],
   "source": [
    "rastPlt.show(mosaic)"
   ]
  },
  {
   "cell_type": "markdown",
   "id": "9c5f964a-6958-4110-87e0-043239f87f1a",
   "metadata": {},
   "source": [
    "# Overlap"
   ]
  },
  {
   "cell_type": "code",
   "execution_count": null,
   "id": "e693e4f0-9169-47c8-bee4-c5821d59cbe8",
   "metadata": {},
   "outputs": [],
   "source": [
    "m = geemap.Map(center=(0, 0), zoom=12)\n",
    "m.add_control(ScaleControl(position='topright'))\n",
    "m.add_control(LayersControl())\n",
    "\n",
    "imgPath = os.path.join(os.getcwd(),'img/Sokoto/test_Sentinel-2.tif')\n",
    "m.add_local_tile(imgPath, bands=[4,3,2],layer_name='pop')\n",
    "\n",
    "display(m)"
   ]
  },
  {
   "cell_type": "code",
   "execution_count": null,
   "id": "dd6ba494-d2fe-4c03-bc7c-3a7539452903",
   "metadata": {},
   "outputs": [],
   "source": []
  }
 ],
 "metadata": {
  "kernelspec": {
   "display_name": "Python 3.9.12 ('BT-Junodch')",
   "language": "python",
   "name": "python3"
  },
  "language_info": {
   "codemirror_mode": {
    "name": "ipython",
    "version": 3
   },
   "file_extension": ".py",
   "mimetype": "text/x-python",
   "name": "python",
   "nbconvert_exporter": "python",
   "pygments_lexer": "ipython3",
   "version": "3.9.12"
  },
  "vscode": {
   "interpreter": {
    "hash": "0877fde3bc78a9e7113f97fea145bff0c5aa8882703ee053f927d63ca7148c47"
   }
  }
 },
 "nbformat": 4,
 "nbformat_minor": 5
}
