{
 "cells": [
  {
   "cell_type": "code",
   "execution_count": null,
   "id": "d72b609b-305e-4b98-a24d-e15fa6aaea91",
   "metadata": {},
   "outputs": [],
   "source": [
    "from ipyleaflet import *\n",
    "\n",
    "import junodch_utils_read_img as utils\n",
    "\n",
    "import matplotlib.pyplot as matPlt\n",
    "import numpy as np\n",
    "\n",
    "import rasterio\n",
    "from rasterio import plot as rastPlt\n",
    "\n",
    "from localtileserver import get_leaflet_tile_layer, TileClient\n",
    "from ipyleaflet import Map\n",
    "from geemap import *"
   ]
  },
  {
   "cell_type": "code",
   "execution_count": null,
   "id": "3bc97d14-1204-43ac-a4d9-43f9cac9ba6e",
   "metadata": {},
   "outputs": [],
   "source": [
    "folderName = \"img/Test/\"\n",
    "fig, axs = matPlt.subplots(1,4,figsize=(15,15))\n",
    "\n",
    "axs[0].set_title(\"Sentinel-2\")\n",
    "with rasterio.open(folderName + \"Sentinel-2_1.tif\") as r:\n",
    "    rastPlt.show(r, ax=axs[0])\n",
    "\n",
    "axs[1].set_xlim(axs[0].get_xlim())\n",
    "axs[1].set_ylim(axs[0].get_ylim())\n",
    "axs[2].set_xlim(axs[0].get_xlim())\n",
    "axs[2].set_ylim(axs[0].get_ylim())\n",
    "axs[3].set_xlim(axs[0].get_xlim())\n",
    "axs[3].set_ylim(axs[0].get_ylim())\n",
    "\n",
    "axs[1].set_title(\"Landsat-8\")\n",
    "with rasterio.open(folderName + \"Landsat-8_1.tif\") as r: \n",
    "    rastPlt.show(r, ax=axs[1])\n",
    "\n",
    "axs[2].set_title(\"VIIRS Nighttime\")\n",
    "with rasterio.open(folderName + \"Night VIIRS_1.tif\") as r:\n",
    "    rastPlt.show(r, ax=axs[2])\n",
    "\n",
    "axs[3].set_title(\"Human settlement\")\n",
    "with rasterio.open(folderName + \"Population GHSL_1.tif\") as r:\n",
    "    rastPlt.show(r, ax=axs[3])\n"
   ]
  },
  {
   "cell_type": "code",
   "execution_count": null,
   "id": "07ead308-f72f-4044-9e00-0a1f5741e31e",
   "metadata": {},
   "outputs": [],
   "source": [
    "folderName = \"img/Test/\"\n",
    "fig, axs = matPlt.subplots(1,2,figsize=(10,10))\n",
    "\n",
    "train, test = utils.getTrainingAndTestPerimeter(folderName + \"Night VIIRS_1.tif\", 200)\n",
    "\n",
    "with rasterio.open(folderName + \"Sentinel-2_1.tif\") as l8:\n",
    "  dataTrain, transformTrain = utils.getImgFromCoord(l8, train, False)\n",
    "  dataTest, transformTest = utils.getImgFromCoord(l8, test, False)\n",
    "\n",
    "  rastPlt.show(dataTrain, transform=transformTrain, ax=axs[0])\n",
    "  rastPlt.show(dataTest, transform=transformTest, ax=axs[1])"
   ]
  },
  {
   "cell_type": "markdown",
   "id": "6f718934-7cb9-465c-aea5-842e06471069",
   "metadata": {},
   "source": [
    "# Combine images"
   ]
  },
  {
   "cell_type": "code",
   "execution_count": null,
   "id": "e997b92d-4509-4f39-9800-a1a61c0b9449",
   "metadata": {},
   "outputs": [],
   "source": [
    "def combineImages(folder, nImg):\n",
    "    listRaster = []\n",
    "    for i in range(1, nImg + 1):\n",
    "        listRaster.append(rasterio.open(folder + '_' + str(i) + '.tif'))\n",
    "    output_meta = rasterio.open(folder + '_1.tif').meta.copy()\n",
    "\n",
    "    mosaic, meta = utils.getMosaicFromFiles(listRaster, output_meta)\n",
    "    \n",
    "    return mosaic, meta"
   ]
  },
  {
   "cell_type": "code",
   "execution_count": null,
   "id": "4c1c22d7",
   "metadata": {},
   "outputs": [],
   "source": [
    "mosaic, meta = combineImages('img/Sokoto/Sentinel-2', 64)\n",
    "rastPlt.show(mosaic)\n",
    "\n",
    "with rasterio.open('img/Sokoto/Sentinel-2.tif', 'w', **meta) as r:\n",
    "  r.write(mosaic)"
   ]
  },
  {
   "cell_type": "markdown",
   "id": "6c2a0d85",
   "metadata": {},
   "source": [
    "## Data visualization"
   ]
  },
  {
   "cell_type": "code",
   "execution_count": null,
   "id": "dcb4b605",
   "metadata": {},
   "outputs": [],
   "source": [
    "folderName = \"img/Sokoto/\"\n",
    "pathSatellite = folderName + \"Sentinel-2.tif\"\n",
    "#pathNight = folderName + \"Night VIIRS_1.tif\"\n",
    "pathNight = folderName + \"lowres_night_1.tif\"\n",
    "pathValidation = folderName + \"Population GHSL_1.tif\"\n",
    "\n",
    "aoi = utils.getImgBorder(pathSatellite)\n",
    "\n",
    "dataCoords, dataRadiance = utils.getTilesCoordsPerimeter(pathNight, validThreshold=1, area=aoi)\n",
    "\n",
    "#lightCoords = dataCoords[dataRadiance>200]\n",
    "\n",
    "print('Tiles:',dataCoords.shape[0])\n",
    "#print('Light Tile:',lightCoords.shape[0])"
   ]
  },
  {
   "cell_type": "code",
   "execution_count": null,
   "id": "43592e70",
   "metadata": {},
   "outputs": [],
   "source": [
    "def displayImgsInMask(dataCoords, pathSatellite, mask, batch=100):\n",
    "  iSave = 0\n",
    "  iNext = 0\n",
    "  coords = dataCoords[mask]\n",
    "  size = coords.shape[0]\n",
    "  print('Size:',size)\n",
    "\n",
    "  titles = ['']*size\n",
    "  for i, v in enumerate(np.argwhere(mask)):\n",
    "    titles[i] = 'N° ' + str(v)\n",
    "\n",
    "  with rasterio.open(pathSatellite) as f:\n",
    "    while iNext < size:\n",
    "      iNext = iSave+batch\n",
    "      if iNext > size:\n",
    "        iNext = size\n",
    "      dataImgs, _ = utils.getEachImgFromCoord(f, coords[iSave:iNext], True)\n",
    "      dataImgs = utils.formatData(dataImgs, 64, False)\n",
    "      \n",
    "      utils.displayImgs(dataImgs, titles[iSave:iNext])\n",
    "      iSave = iNext\n"
   ]
  },
  {
   "cell_type": "code",
   "execution_count": null,
   "id": "102032f4",
   "metadata": {},
   "outputs": [],
   "source": [
    "print('radiance >= 250:')\n",
    "displayImgsInMask(dataCoords, pathSatellite, dataRadiance>=250)\n",
    "print('radiance >= 200:')\n",
    "displayImgsInMask(dataCoords, pathSatellite, (dataRadiance<250) & (dataRadiance>=200))\n",
    "print('radiance >= 100:')\n",
    "displayImgsInMask(dataCoords, pathSatellite, (dataRadiance<200) & (dataRadiance>=100))\n",
    "print('radiance >= 75:')\n",
    "displayImgsInMask(dataCoords, pathSatellite, (dataRadiance<100) & (dataRadiance>=75))\n",
    "print('radiance >= 50:')\n",
    "displayImgsInMask(dataCoords, pathSatellite, (dataRadiance<75) & (dataRadiance>=50))\n",
    "print('radiance >= 25:')\n",
    "displayImgsInMask(dataCoords, pathSatellite, (dataRadiance<50) & (dataRadiance>=25))\n",
    "print('radiance > 1:')\n",
    "displayImgsInMask(dataCoords, pathSatellite, (dataRadiance<25) & (dataRadiance>1))"
   ]
  },
  {
   "cell_type": "markdown",
   "id": "9c5f964a-6958-4110-87e0-043239f87f1a",
   "metadata": {},
   "source": [
    "# Overlap"
   ]
  },
  {
   "cell_type": "code",
   "execution_count": null,
   "id": "b2cd6d2d",
   "metadata": {},
   "outputs": [],
   "source": [
    "from localtileserver import get_leaflet_tile_layer, TileClient\n",
    "from geemap import *\n",
    "\n",
    "from ipyleaflet import *"
   ]
  },
  {
   "cell_type": "code",
   "execution_count": null,
   "id": "73d7e595",
   "metadata": {},
   "outputs": [],
   "source": [
    "sentinelPath = 'img/Sokoto/Sentinel-2.tif'\n",
    "resultPath = 'img/Sokoto/example3.tif'\n",
    "\n",
    "# First, create a tile server from local raster file\n",
    "#resultImg = TileClient(resultPath)\n",
    "#sentinelImg = TileClient(sentinelPath)\n",
    "\n",
    "m = geemap.Map(center=(0, 0), zoom=8)\n",
    "\n",
    "resultImg = os.path.join(os.getcwd(), resultPath)\n",
    "sentinelImg = os.path.join(os.getcwd(), sentinelPath)\n",
    "m.add_local_tile(resultImg, bands=[3,2,1],layer_name='test')\n",
    "#m.add_local_tile(sentinelImg, bands=[4,3,2],layer_name='sentinel')\n",
    "\n",
    "#m.add_layer(get_leaflet_tile_layer(resultImg))\n",
    "#m.add_layer(get_leaflet_tile_layer(sentinelImg))\n",
    "\n",
    "display(m)"
   ]
  },
  {
   "cell_type": "code",
   "execution_count": null,
   "id": "e693e4f0-9169-47c8-bee4-c5821d59cbe8",
   "metadata": {},
   "outputs": [],
   "source": [
    "#path = 'img/Sokoto/Sentinel-2.tif'\n",
    "path = 'img/Sokoto/example2.tif'\n",
    "\n",
    "m = geemap.Map(center=(0, 0), zoom=1)\n",
    "#m.add_control(ScaleControl(position='topright'))\n",
    "#m.add_control(LayersControl())\n",
    "\n",
    "#imgPath = os.path.join(os.getcwd(), path)\n",
    "#m.add_local_tile(imgPath, bands=[4,3,2,1],layer_name='test')\n",
    "m.add_layer(get_leaflet_tile_layer(TileClient(path)))\n",
    "\n",
    "display(m)"
   ]
  },
  {
   "cell_type": "code",
   "execution_count": null,
   "id": "dd6ba494-d2fe-4c03-bc7c-3a7539452903",
   "metadata": {},
   "outputs": [],
   "source": []
  }
 ],
 "metadata": {
  "kernelspec": {
   "display_name": "Python 3 (ipykernel)",
   "language": "python",
   "name": "python3"
  },
  "language_info": {
   "codemirror_mode": {
    "name": "ipython",
    "version": 3
   },
   "file_extension": ".py",
   "mimetype": "text/x-python",
   "name": "python",
   "nbconvert_exporter": "python",
   "pygments_lexer": "ipython3",
   "version": "3.9.12"
  },
  "vscode": {
   "interpreter": {
    "hash": "0877fde3bc78a9e7113f97fea145bff0c5aa8882703ee053f927d63ca7148c47"
   }
  }
 },
 "nbformat": 4,
 "nbformat_minor": 5
}
