{
 "cells": [
  {
   "cell_type": "markdown",
   "id": "601a4382",
   "metadata": {},
   "source": [
    "# Read Images\n",
    "Notebook to display images and do various test"
   ]
  },
  {
   "cell_type": "code",
   "execution_count": null,
   "id": "d72b609b-305e-4b98-a24d-e15fa6aaea91",
   "metadata": {},
   "outputs": [],
   "source": [
    "import junodch_utils_read_img as utils\n",
    "\n",
    "import matplotlib.pyplot as matPlt\n",
    "import numpy as np\n",
    "\n",
    "import rasterio\n",
    "from rasterio import plot as rastPlt"
   ]
  },
  {
   "cell_type": "markdown",
   "id": "edc192ba",
   "metadata": {},
   "source": [
    "## Test display \n",
    "Display images from various satellites and extract an areas"
   ]
  },
  {
   "cell_type": "code",
   "execution_count": null,
   "id": "3bc97d14-1204-43ac-a4d9-43f9cac9ba6e",
   "metadata": {},
   "outputs": [],
   "source": [
    "folderName = \"img/Test/\"\n",
    "fig, axs = matPlt.subplots(1,4,figsize=(15,15))\n",
    "\n",
    "axs[0].set_title(\"Sentinel-2\")\n",
    "with rasterio.open(folderName + \"Sentinel-2_1.tif\") as r:\n",
    "    rastPlt.show(r, ax=axs[0])\n",
    "\n",
    "axs[1].set_xlim(axs[0].get_xlim())\n",
    "axs[1].set_ylim(axs[0].get_ylim())\n",
    "axs[2].set_xlim(axs[0].get_xlim())\n",
    "axs[2].set_ylim(axs[0].get_ylim())\n",
    "axs[3].set_xlim(axs[0].get_xlim())\n",
    "axs[3].set_ylim(axs[0].get_ylim())\n",
    "\n",
    "axs[1].set_title(\"Landsat-8\")\n",
    "with rasterio.open(folderName + \"Landsat-8_1.tif\") as r: \n",
    "    rastPlt.show(r, ax=axs[1])\n",
    "\n",
    "axs[2].set_title(\"VIIRS Nighttime\")\n",
    "with rasterio.open(folderName + \"Night VIIRS_1.tif\") as r:\n",
    "    rastPlt.show(r, ax=axs[2])\n",
    "\n",
    "axs[3].set_title(\"Human settlement\")\n",
    "with rasterio.open(folderName + \"Population GHSL_1.tif\") as r:\n",
    "    rastPlt.show(r, ax=axs[3])\n"
   ]
  },
  {
   "cell_type": "code",
   "execution_count": null,
   "id": "07ead308-f72f-4044-9e00-0a1f5741e31e",
   "metadata": {},
   "outputs": [],
   "source": [
    "folderName = \"img/Test/\"\n",
    "pathSatellite = folderName + \"Sentinel-2_1.tif\"\n",
    "pathNight = folderName + \"Night VIIRS_1.tif\"\n",
    "pathValidation = folderName + \"Population GHSL_1.tif\"\n",
    "\n",
    "fig, axs = matPlt.subplots(1,2,figsize=(10,10))\n",
    "\n",
    "aoi = utils.getImgBorder(pathSatellite)\n",
    "\n",
    "# Fetch coords\n",
    "dataCoords, dataRadiance = utils.getTilesCoordsPerimeter(pathNight, area=aoi)\n",
    "\n",
    "lightMask = dataRadiance>250\n",
    "darkMask = dataRadiance<=250\n",
    "\n",
    "lightCoords = dataCoords[lightMask]\n",
    "darkCoords = dataCoords[darkMask]\n",
    "\n",
    "# Fetch images\n",
    "with rasterio.open(pathSatellite) as f:\n",
    "  lightData, lightTransform = utils.getImgFromCoord(f, lightCoords, False)\n",
    "  darkData, darkTransform = utils.getImgFromCoord(f, darkCoords, False)\n",
    "\n",
    "  rastPlt.show(lightData, transform=lightTransform, ax=axs[0])\n",
    "  rastPlt.show(darkData, transform=darkTransform, ax=axs[1])"
   ]
  },
  {
   "cell_type": "markdown",
   "id": "6c2a0d85",
   "metadata": {},
   "source": [
    "## Tiles visualization\n",
    "A look to the tiles on the day satellite images that produce light on the night images."
   ]
  },
  {
   "cell_type": "code",
   "execution_count": null,
   "id": "dcb4b605",
   "metadata": {},
   "outputs": [],
   "source": [
    "folderName = \"img/Sokoto/\"\n",
    "pathSatellite = folderName + \"Sentinel-2.tif\"\n",
    "pathNight = folderName + \"Night_VIIRS_2.tif\"\n",
    "#pathNight = folderName + \"lowres_night_1.tif\"\n",
    "pathValidation = folderName + \"Population GHSL_1.tif\"\n",
    "\n",
    "aoi = utils.getImgBorder(pathSatellite)\n",
    "\n",
    "dataCoords, dataRadiance = utils.getTilesCoordsPerimeter(pathNight, area=aoi)\n",
    "\n",
    "#lightCoords = dataCoords[dataRadiance>200]\n",
    "\n",
    "print('Tiles:',dataCoords.shape[0])\n",
    "#print('Light Tile:',lightCoords.shape[0])"
   ]
  },
  {
   "cell_type": "code",
   "execution_count": null,
   "id": "43592e70",
   "metadata": {},
   "outputs": [],
   "source": [
    "def displayImgsInMask(dataCoords, pathSatellite, mask, batch=100):\n",
    "  iSave = 0\n",
    "  iNext = 0\n",
    "  coords = dataCoords[mask]\n",
    "  size = coords.shape[0]\n",
    "  print('Size:',size)\n",
    "\n",
    "  titles = ['']*size\n",
    "  for i, v in enumerate(np.argwhere(mask)):\n",
    "    titles[i] = 'N° ' + str(v)\n",
    "\n",
    "  with rasterio.open(pathSatellite) as f:\n",
    "    while iNext < size:\n",
    "      iNext = iSave+batch\n",
    "      if iNext > size:\n",
    "        iNext = size\n",
    "      dataImgs, _ = utils.getEachImgFromCoord(f, coords[iSave:iNext], True)\n",
    "      dataImgs = utils.formatData(dataImgs, 32, False)\n",
    "      \n",
    "      utils.displayImgs(dataImgs, titles[iSave:iNext])\n",
    "      iSave = iNext\n"
   ]
  },
  {
   "cell_type": "code",
   "execution_count": null,
   "id": "102032f4",
   "metadata": {},
   "outputs": [],
   "source": [
    "print('radiance >= 250:')\n",
    "\n",
    "displayImgsInMask(dataCoords, pathSatellite, dataRadiance>=250)\n",
    "print('radiance >= 200:')\n",
    "displayImgsInMask(dataCoords, pathSatellite, (dataRadiance<250) & (dataRadiance>=200))\n",
    "print('radiance >= 150:')\n",
    "displayImgsInMask(dataCoords, pathSatellite, (dataRadiance<200) & (dataRadiance>=150))\n",
    "print('radiance >= 100:')\n",
    "displayImgsInMask(dataCoords, pathSatellite, (dataRadiance<150) & (dataRadiance>=100))\n",
    "#print('radiance >= 75:')\n",
    "#displayImgsInMask(dataCoords, pathSatellite, (dataRadiance<100) & (dataRadiance>=75))\n",
    "#print('radiance >= 50:')\n",
    "#displayImgsInMask(dataCoords, pathSatellite, (dataRadiance<75) & (dataRadiance>=50))\n",
    "#print('radiance >= 25:')\n",
    "#displayImgsInMask(dataCoords, pathSatellite, (dataRadiance<50) & (dataRadiance>=25))\n",
    "#print('radiance > 1:')\n",
    "#displayImgsInMask(dataCoords, pathSatellite, (dataRadiance<25) & (dataRadiance>1))"
   ]
  },
  {
   "cell_type": "code",
   "execution_count": null,
   "id": "dd6ba494-d2fe-4c03-bc7c-3a7539452903",
   "metadata": {},
   "outputs": [],
   "source": []
  }
 ],
 "metadata": {
  "kernelspec": {
   "display_name": "Python 3 (ipykernel)",
   "language": "python",
   "name": "python3"
  },
  "language_info": {
   "codemirror_mode": {
    "name": "ipython",
    "version": 3
   },
   "file_extension": ".py",
   "mimetype": "text/x-python",
   "name": "python",
   "nbconvert_exporter": "python",
   "pygments_lexer": "ipython3",
   "version": "3.9.12"
  },
  "vscode": {
   "interpreter": {
    "hash": "0877fde3bc78a9e7113f97fea145bff0c5aa8882703ee053f927d63ca7148c47"
   }
  }
 },
 "nbformat": 4,
 "nbformat_minor": 5
}
