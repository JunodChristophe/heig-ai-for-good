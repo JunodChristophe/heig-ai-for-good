{
 "cells": [
  {
   "cell_type": "code",
   "execution_count": null,
   "metadata": {},
   "outputs": [],
   "source": [
    "import junodch_utils_read_img as utils\n",
    "\n",
    "import matplotlib.pyplot as matPlt\n",
    "import numpy as np\n",
    "import pandas as pd\n",
    "import tensorflow as tf\n",
    "from tqdm.keras import TqdmCallback\n",
    "\n",
    "import keras\n",
    "from keras import layers, losses\n",
    "from keras.models import Model\n",
    "from shapely.geometry import box\n",
    "#import gdal\n",
    "\n",
    "import rasterio\n",
    "from rasterio import plot as rastPlt\n",
    "from rasterio.merge import merge as rasterMerge\n",
    "\n",
    "from ipyleaflet import *\n",
    "from localtileserver import get_leaflet_tile_layer, TileClient\n",
    "from geemap import *"
   ]
  },
  {
   "cell_type": "code",
   "execution_count": null,
   "metadata": {},
   "outputs": [],
   "source": [
    "autoencoder = keras.models.load_model('model/autoencoder_64_V2')"
   ]
  },
  {
   "cell_type": "code",
   "execution_count": null,
   "metadata": {},
   "outputs": [],
   "source": [
    "folderName = \"img/Sokoto/\"\n",
    "satelliteFile = \"Sentinel-2_1.tif\"\n",
    "#nightFile = \"Night VIIRS_1.tif\"\n",
    "nightFile = \"lowres_night_1.tif\"\n",
    "\n",
    "# Filter the night tile not covering the day area.\n",
    "with rasterio.open(folderName + satelliteFile) as s:\n",
    "  sBox = box(*s.bounds).exterior.coords\n",
    "aoi = []\n",
    "for v in sBox:\n",
    "  aoi.append((v[0], v[1]))\n",
    "aoi.pop()\n",
    "\n",
    "coords, test = utils.getTrainingAndTestPerimeter(folderName + nightFile, 0, area=aoi)\n",
    "\n",
    "print(\"TrainingTile:\",len(coords))\n",
    "print(\"TestTile:\",len(test))\n"
   ]
  },
  {
   "cell_type": "code",
   "execution_count": null,
   "metadata": {},
   "outputs": [],
   "source": [
    "#with rasterio.open(folderName + satelliteFile) as s:\n",
    "#  validation, metaValid = utils.getEachImgFromCoord(s, coords[2944:2954], True)\n",
    "\n",
    "#data = utils.formatDataForAutoencoder(validation)\n",
    "\n",
    "#utils.displayAutoEncoderResults(data, None, autoencoder, keras.losses.MeanAbsoluteError())"
   ]
  },
  {
   "cell_type": "code",
   "execution_count": null,
   "metadata": {},
   "outputs": [],
   "source": [
    "#cVal = 736 # TODO to delete\n",
    "\n",
    "batch = 256\n",
    "iSave = 0\n",
    "iNext = 0\n",
    "\n",
    "#coordsTest = coords[2208:2308] + coords[2944:3044] + coords[3680:3780]\n",
    "coordsTest = coords\n",
    "\n",
    "size = len(coordsTest)\n",
    "\n",
    "lossFunction = keras.losses.MeanSquaredError()\n",
    "result = [0]*len(coordsTest)\n",
    "\n",
    "with rasterio.open(folderName + satelliteFile) as s:\n",
    "  while iNext < size:\n",
    "    iNext = iSave+batch\n",
    "    if iNext > size: \n",
    "      iNext = size\n",
    "    dataInput, metaValid = utils.getEachImgFromCoord(s, coordsTest[iSave:iNext], True)\n",
    "    dataformated = utils.formatDataForAutoencoder(dataInput,res=64)\n",
    "    decoded_imgs = autoencoder.predict(dataformated,verbose=0,)\n",
    "    for i in range(iNext-iSave):\n",
    "      result[iSave+i] = np.round(lossFunction(dataformated[i], decoded_imgs[i]).numpy(),0)\n",
    "    iSave = iNext\n",
    "  \n"
   ]
  },
  {
   "cell_type": "code",
   "execution_count": null,
   "metadata": {},
   "outputs": [],
   "source": [
    "batch = 256\n",
    "iSave = 0\n",
    "iNext = 0\n",
    "size = len(coordsTest)\n",
    "resultValid = [False]*len(coordsTest)\n",
    "\n",
    "with rasterio.open(folderName + 'Population GHSL_1.tif') as p:\n",
    "  while iNext < size:\n",
    "    iNext = iSave+batch\n",
    "    if iNext > size: \n",
    "      iNext = size\n",
    "    validationData, _ = utils.getEachImgFromCoord(p, coordsTest[iSave:iNext], True)\n",
    "    for i in range(iNext-iSave):\n",
    "      resultValid[iSave+i] = any(any(c > 200 for c in row) for row in validationData[i][0])\n",
    "    iSave = iNext"
   ]
  },
  {
   "cell_type": "code",
   "execution_count": null,
   "metadata": {},
   "outputs": [],
   "source": [
    "with rasterio.open(folderName + nightFile) as s:\n",
    "  testData, testMeta = utils.getEachImgFromCoord(s, coordsTest, True)\n",
    "\n",
    "def setVal2x2(val):\n",
    "  return [[val,val],[val,val]]\n",
    "\n",
    "def setThreshold(val, isInPop, minExpected, maxExpected):\n",
    "  rgb = (0,0,0)\n",
    "  if val > maxExpected: # unkown data\n",
    "    rgb = (255,255,0) if isInPop else(0,0,255)\n",
    "  elif val >= minExpected and val <= maxExpected: # Settlement detected\n",
    "    rgb = (0,255,0) if isInPop else (255,0,0)\n",
    "  elif val < minExpected: # Empty\n",
    "    rgb = (100,100,100) if isInPop else (0,0,0)\n",
    "  return [setVal2x2(rgb[0]), setVal2x2(rgb[1]), setVal2x2(rgb[2]), setVal2x2(255)]\n",
    "\n",
    "\n",
    "resultImg = [setThreshold(result[i], resultValid[i], 100, 300) for i in range(len(result))]\n",
    "for i, m in enumerate(testMeta):\n",
    "  testMeta[i] = rasterio.Affine(m[0]/2, m[1], m[2], m[3], m[4]/2, m[5])"
   ]
  },
  {
   "cell_type": "code",
   "execution_count": null,
   "metadata": {},
   "outputs": [],
   "source": [
    "#utils.displayTiles(dataInput, metaValid)\n",
    "#with rasterio.open(folderName + \"Sentinel-2.tif\") as s:\n",
    "  #utils.displayTiles([s.read()], [s.transform])\n",
    "  #utils.displayTiles([s.read()] + resultImg, [s.transform] + testMeta)\n",
    "\n",
    "fig, axs = matPlt.subplots(1,3, dpi=240)\n",
    "with rasterio.open(folderName + satelliteFile) as s:\n",
    "  utils.displayTiles([s.read()], [s.transform],axs[0])\n",
    "\n",
    "axs[2].set_xlim(axs[0].get_xlim())\n",
    "axs[2].set_ylim(axs[0].get_ylim())\n",
    "with rasterio.open(folderName + 'Population GHSL_1.tif') as p:\n",
    "  rastPlt.show(p, ax=axs[2])\n",
    "\n",
    "utils.displayTiles(resultImg, testMeta, axs[1])\n"
   ]
  },
  {
   "cell_type": "code",
   "execution_count": null,
   "metadata": {},
   "outputs": [],
   "source": [
    "m = Map(center=(0, 0), zoom=4)\n",
    "\n",
    "display(m)"
   ]
  }
 ],
 "metadata": {
  "kernelspec": {
   "display_name": "Python 3.9.12 ('BT-Junodch')",
   "language": "python",
   "name": "python3"
  },
  "language_info": {
   "codemirror_mode": {
    "name": "ipython",
    "version": 3
   },
   "file_extension": ".py",
   "mimetype": "text/x-python",
   "name": "python",
   "nbconvert_exporter": "python",
   "pygments_lexer": "ipython3",
   "version": "3.9.12"
  },
  "orig_nbformat": 4,
  "vscode": {
   "interpreter": {
    "hash": "0877fde3bc78a9e7113f97fea145bff0c5aa8882703ee053f927d63ca7148c47"
   }
  }
 },
 "nbformat": 4,
 "nbformat_minor": 2
}
