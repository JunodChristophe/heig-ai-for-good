{
 "cells": [
  {
   "cell_type": "markdown",
   "metadata": {},
   "source": [
    "# Validation model\n",
    "Test and experiments to check the performance of one or more models"
   ]
  },
  {
   "cell_type": "code",
   "execution_count": null,
   "metadata": {},
   "outputs": [],
   "source": [
    "import junodch_utils_read_img as utils\n",
    "\n",
    "import matplotlib.pyplot as matPlt\n",
    "import numpy as np\n",
    "import pandas as pd\n",
    "import tensorflow as tf\n",
    "\n",
    "import keras\n",
    "from keras import layers, losses\n",
    "from keras.models import Model\n",
    "from shapely.geometry import Polygon, box\n",
    "\n",
    "from tqdm.keras import TqdmCallback\n",
    "from sklearn.metrics import confusion_matrix\n",
    "\n",
    "import rasterio\n",
    "from rasterio import plot as rastPlt\n",
    "from rasterio.plot import reshape_as_raster\n",
    "from rasterio.merge import merge as rasterMerge\n",
    "from rasterio.mask import mask as rasterMask\n"
   ]
  },
  {
   "cell_type": "code",
   "execution_count": null,
   "metadata": {},
   "outputs": [],
   "source": [
    "folderName = \"img/Sokoto/\"\n",
    "pathSatellite = folderName + \"Sentinel-2.tif\"\n",
    "pathNight = folderName + \"Night_VIIRS.tif\"\n",
    "pathValidation = folderName + \"Population_GHSL.tif\"\n",
    "\n",
    "aoi = utils.getImgBorder(pathSatellite)\n",
    "\n",
    "# Fetch coords\n",
    "dataCoords, dataRadiance = utils.getTilesCoordsPerimeter(pathNight, area=aoi)\n",
    "print(len(dataCoords))"
   ]
  },
  {
   "cell_type": "markdown",
   "metadata": {},
   "source": [
    "#### Validation"
   ]
  },
  {
   "cell_type": "code",
   "execution_count": null,
   "metadata": {},
   "outputs": [],
   "source": [
    "with rasterio.open(pathValidation) as f:\n",
    "  sampleTile, _ = rasterMask(f, [Polygon(dataCoords[1000])], crop=True) # arbitrary coordinate for a sample\n",
    "print('Validation shape:',sampleTile.shape) # shape sample\n",
    "\n",
    "print('Process validation...')\n",
    "# If any of the pixels have a settlement then true else false\n",
    "getValid = lambda data : [ int(250/255 < img.max()) for img in data ]\n",
    "resultValid = utils.scanSatellite(pathValidation, dataCoords, getValid, batch=1000, res=sampleTile.shape[1])"
   ]
  },
  {
   "cell_type": "code",
   "execution_count": null,
   "metadata": {},
   "outputs": [],
   "source": [
    "model1 = keras.models.load_model('model/cnn_64px_32_16_8_v2')\n",
    "model2 = keras.models.load_model('model/cnn_64px_32_16_8_v3')\n",
    "model3 = keras.models.load_model('model/cnn_64px_32_16_8_v4')"
   ]
  },
  {
   "cell_type": "code",
   "execution_count": null,
   "metadata": {},
   "outputs": [],
   "source": [
    "print('Process score...')\n",
    "getScore = lambda data : model1.predict(data, verbose=0).flatten()\n",
    "result1 = utils.scanSatellite(pathSatellite, dataCoords, getScore, batch=100, res=64)"
   ]
  },
  {
   "cell_type": "code",
   "execution_count": null,
   "metadata": {},
   "outputs": [],
   "source": [
    "print('Process score...')\n",
    "getScore = lambda data : model2.predict(data, verbose=0).flatten()\n",
    "result2 = utils.scanSatellite(pathSatellite, dataCoords, getScore, batch=100, res=64)"
   ]
  },
  {
   "cell_type": "code",
   "execution_count": null,
   "metadata": {},
   "outputs": [],
   "source": [
    "print('Process score...')\n",
    "getScore = lambda data : model3.predict(data, verbose=0).flatten()\n",
    "result3 = utils.scanSatellite(pathSatellite, dataCoords, getScore, batch=100, res=64)"
   ]
  },
  {
   "cell_type": "code",
   "execution_count": null,
   "metadata": {},
   "outputs": [],
   "source": [
    "threshold = 0.5\n",
    "\n",
    "print('Process confustion matrix...')\n",
    "resultTest1 = (np.asarray(result1) > threshold).astype(int)\n",
    "confusionMatrix = confusion_matrix(resultValid, resultTest1)\n",
    "print(confusionMatrix)\n",
    "tp = confusionMatrix[1][1]\n",
    "fp = confusionMatrix[0][1]\n",
    "fn = confusionMatrix[1][0]\n",
    "print('f-score:',round(tp / (tp + (fp + fn)/2) * 100, 2),\"%\")\n",
    "print('tp / fp:',round(tp / (tp + fp) * 100,2),\"%\")"
   ]
  },
  {
   "cell_type": "code",
   "execution_count": null,
   "metadata": {},
   "outputs": [],
   "source": [
    "threshold = 0.04\n",
    "\n",
    "print('Process confustion matrix...')\n",
    "resultTest2 = (np.asarray(result2) > threshold).astype(int)\n",
    "confusionMatrix = confusion_matrix(resultValid, resultTest2)\n",
    "print(confusionMatrix)\n",
    "tp = confusionMatrix[1][1]\n",
    "fp = confusionMatrix[0][1]\n",
    "fn = confusionMatrix[1][0]\n",
    "print('f-score:',round(tp / (tp + (fp + fn)/2) * 100, 2),\"%\")\n",
    "print('tp / fp:',round(tp / (tp + fp) * 100,2),\"%\")"
   ]
  },
  {
   "cell_type": "code",
   "execution_count": null,
   "metadata": {},
   "outputs": [],
   "source": [
    "threshold = 0.05\n",
    "\n",
    "print('Process confustion matrix...')\n",
    "resultTest3 = (np.asarray(result3) > threshold).astype(int)\n",
    "confusionMatrix = confusion_matrix(resultValid, resultTest3)\n",
    "print(confusionMatrix)\n",
    "tp = confusionMatrix[1][1]\n",
    "fp = confusionMatrix[0][1]\n",
    "fn = confusionMatrix[1][0]\n",
    "print('f-score:',round(tp / (tp + (fp + fn)/2) * 100, 2),\"%\")\n",
    "print('tp / fp:',round(tp / (tp + fp) * 100,2),\"%\")"
   ]
  },
  {
   "cell_type": "code",
   "execution_count": null,
   "metadata": {},
   "outputs": [],
   "source": [
    "fig, axs = matPlt.subplots(1,4, dpi=240)\n",
    "with rasterio.open(pathSatellite) as s: utils.displayTiles([s.read()], [s.transform],axs[0])\n",
    "\n",
    "axs[1].set_xlim(axs[0].get_xlim())\n",
    "axs[1].set_ylim(axs[0].get_ylim())\n",
    "\n",
    "axs[2].set_xlim(axs[0].get_xlim())\n",
    "axs[2].set_ylim(axs[0].get_ylim())\n",
    "\n",
    "axs[3].set_xlim(axs[0].get_xlim())\n",
    "axs[3].set_ylim(axs[0].get_ylim())\n",
    "\n",
    "#with rasterio.open(pathValidation) as p: rastPlt.show(p, ax=axs[1])\n",
    "\n",
    "resultImg, resultMeta = utils.mapResultOnImg(pathNight, dataCoords, resultTest1, resultValid)\n",
    "utils.displayTiles([resultImg], [resultMeta], axs[1])\n",
    "resultImg, resultMeta = utils.mapResultOnImg(pathNight, dataCoords, resultTest2, resultValid)\n",
    "utils.displayTiles([resultImg], [resultMeta], axs[2])\n",
    "resultImg, resultMeta = utils.mapResultOnImg(pathNight, dataCoords, resultTest3, resultValid)\n",
    "utils.displayTiles([resultImg], [resultMeta], axs[3])\n"
   ]
  }
 ],
 "metadata": {
  "kernelspec": {
   "display_name": "Python 3.9.12 ('BT-Junodch')",
   "language": "python",
   "name": "python3"
  },
  "language_info": {
   "codemirror_mode": {
    "name": "ipython",
    "version": 3
   },
   "file_extension": ".py",
   "mimetype": "text/x-python",
   "name": "python",
   "nbconvert_exporter": "python",
   "pygments_lexer": "ipython3",
   "version": "3.9.12"
  },
  "orig_nbformat": 4,
  "vscode": {
   "interpreter": {
    "hash": "0877fde3bc78a9e7113f97fea145bff0c5aa8882703ee053f927d63ca7148c47"
   }
  }
 },
 "nbformat": 4,
 "nbformat_minor": 2
}
