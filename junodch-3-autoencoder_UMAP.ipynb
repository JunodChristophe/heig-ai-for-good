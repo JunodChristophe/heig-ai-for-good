{
 "cells": [
  {
   "cell_type": "markdown",
   "metadata": {},
   "source": [
    "# Experimentation autoencoder and UMAP"
   ]
  },
  {
   "cell_type": "code",
   "execution_count": 1,
   "metadata": {},
   "outputs": [],
   "source": [
    "import junodch_utils_read_img as utils\n",
    "\n",
    "import matplotlib.pyplot as plt\n",
    "import numpy as np\n",
    "import tensorflow as tf\n",
    "from tqdm.keras import TqdmCallback\n",
    "\n",
    "import rasterio\n",
    "import keras\n",
    "from keras import layers\n",
    "\n",
    "import umap\n",
    "from umap.parametric_umap import ParametricUMAP"
   ]
  },
  {
   "cell_type": "markdown",
   "metadata": {},
   "source": [
    "# Data preparation\n",
    "### Fetch data from file"
   ]
  },
  {
   "cell_type": "code",
   "execution_count": 2,
   "metadata": {},
   "outputs": [
    {
     "name": "stdout",
     "output_type": "stream",
     "text": [
      "Tiles: 139113\n"
     ]
    }
   ],
   "source": [
    "folderName = \"img/Sokoto/\"\n",
    "pathSatellite = folderName + \"Sentinel-2.tif\"\n",
    "pathNight = folderName + \"Night_VIIRS.tif\"\n",
    "pathValidation = folderName + \"Population_GHSL.tif\"\n",
    "\n",
    "aoi = utils.getImgBorder(pathSatellite)\n",
    "\n",
    "# Fetch coords\n",
    "dataCoords, dataRadiance = utils.getTilesCoordsPerimeter(pathNight, area=aoi)\n",
    "print('Tiles:',dataCoords.shape[0])\n"
   ]
  },
  {
   "cell_type": "code",
   "execution_count": 3,
   "metadata": {},
   "outputs": [
    {
     "name": "stdout",
     "output_type": "stream",
     "text": [
      "(1378, 64, 64, 3)\n",
      "Light Tile: 689\n",
      "dark Tile: 689\n",
      "Total train (1378, 64, 64, 3)\n"
     ]
    }
   ],
   "source": [
    "lightMask = (dataRadiance>0)\n",
    "lightCoords = dataCoords[lightMask]\n",
    "darkMask = (dataRadiance==0)\n",
    "\n",
    "idxDarkData = np.random.choice(np.arange(dataCoords.shape[0])[darkMask], len(lightCoords), replace=False)\n",
    "darkCoords = dataCoords[idxDarkData]\n",
    "\n",
    "trainCoords = np.concatenate((lightCoords, darkCoords))\n",
    "\n",
    "with rasterio.open(pathSatellite) as f:\n",
    "  trainData, _ = utils.coordsToImgsFormated(f, trainCoords, res=64)\n",
    "print(trainData.shape)\n",
    "\n",
    "print('Light Tile:',len(lightCoords))\n",
    "print('dark Tile:',len(darkCoords))\n",
    "print('Total train',trainData.shape)"
   ]
  },
  {
   "cell_type": "markdown",
   "metadata": {},
   "source": [
    "# UMAP"
   ]
  },
  {
   "cell_type": "code",
   "execution_count": 4,
   "metadata": {},
   "outputs": [
    {
     "name": "stdout",
     "output_type": "stream",
     "text": [
      "44/44 [==============================] - 1s 6ms/step\n",
      "(1378, 1024)\n"
     ]
    }
   ],
   "source": [
    "autoencoder = keras.models.load_model('model/autoencoder_64px_encoder_1024')\n",
    "encoder = keras.Model(inputs=autoencoder.inputs, outputs=autoencoder.get_layer('encoder').output)\n",
    "\n",
    "trainDataUmap = encoder.predict(trainData)\n",
    "validation = np.concatenate((dataRadiance[lightMask], dataRadiance[idxDarkData]))\n",
    "\n",
    "print(trainDataUmap.shape)"
   ]
  },
  {
   "cell_type": "code",
   "execution_count": 5,
   "metadata": {},
   "outputs": [],
   "source": [
    "def displayResultUMAP(embedding):\n",
    "  fig, ax2 = plt.subplots( figsize=(5, 4))\n",
    "  sc = ax2.scatter(\n",
    "      embedding[:, 0],\n",
    "      embedding[:, 1],\n",
    "      c= validation,\n",
    "      cmap='rainbow',\n",
    "      s=5,\n",
    "      alpha=0.3,\n",
    "      rasterized=True,\n",
    "  )\n",
    "  ax2.axis('equal')\n",
    "  plt.colorbar(sc, ax=ax2)"
   ]
  },
  {
   "cell_type": "code",
   "execution_count": 6,
   "metadata": {},
   "outputs": [
    {
     "data": {
      "image/png": "[encoded data removed]",
      "text/plain": [
       "<Figure size 360x288 with 2 Axes>"
      ]
     },
     "metadata": {
      "needs_background": "light"
     },
     "output_type": "display_data"
    }
   ],
   "source": [
    "embedding = umap.UMAP(random_state=50).fit_transform(trainDataUmap)\n",
    "displayResultUMAP(embedding)"
   ]
  },
  {
   "cell_type": "code",
   "execution_count": null,
   "metadata": {},
   "outputs": [],
   "source": []
  }
 ],
 "metadata": {
  "kernelspec": {
   "display_name": "Python 3 (ipykernel)",
   "language": "python",
   "name": "python3"
  },
  "language_info": {
   "codemirror_mode": {
    "name": "ipython",
    "version": 3
   },
   "file_extension": ".py",
   "mimetype": "text/x-python",
   "name": "python",
   "nbconvert_exporter": "python",
   "pygments_lexer": "ipython3",
   "version": "3.9.12"
  },
  "vscode": {
   "interpreter": {
    "hash": "0877fde3bc78a9e7113f97fea145bff0c5aa8882703ee053f927d63ca7148c47"
   }
  }
 },
 "nbformat": 4,
 "nbformat_minor": 4
}
